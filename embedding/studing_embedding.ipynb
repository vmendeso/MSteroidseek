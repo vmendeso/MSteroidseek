{
 "cells": [
  {
   "cell_type": "code",
   "execution_count": 18,
   "id": "dfbfbcb5",
   "metadata": {},
   "outputs": [
    {
     "name": "stdout",
     "output_type": "stream",
     "text": [
      "\n",
      "\u001b[1m[\u001b[0m\u001b[34;49mnotice\u001b[0m\u001b[1;39;49m]\u001b[0m\u001b[39;49m A new release of pip is available: \u001b[0m\u001b[31;49m25.0.1\u001b[0m\u001b[39;49m -> \u001b[0m\u001b[32;49m25.2\u001b[0m\n",
      "\u001b[1m[\u001b[0m\u001b[34;49mnotice\u001b[0m\u001b[1;39;49m]\u001b[0m\u001b[39;49m To update, run: \u001b[0m\u001b[32;49mpip install --upgrade pip\u001b[0m\n",
      "Note: you may need to restart the kernel to use updated packages.\n"
     ]
    }
   ],
   "source": [
    "pip install  nbformat>=4.2.0\n"
   ]
  },
  {
   "cell_type": "code",
   "execution_count": 1,
   "id": "26a03a98",
   "metadata": {},
   "outputs": [],
   "source": [
    "import numpy as np\n",
    "import plotly.express as px\n",
    "from sklearn.decomposition import PCA\n",
    "from sklearn.manifold import TSNE\n"
   ]
  },
  {
   "cell_type": "code",
   "execution_count": 2,
   "id": "4c3daf00",
   "metadata": {},
   "outputs": [
    {
     "data": {
      "text/plain": [
       "array([[0.37454012, 0.95071431, 0.73199394, ..., 0.42710779, 0.81801477,\n",
       "        0.86073058],\n",
       "       [0.00695213, 0.5107473 , 0.417411  , ..., 0.31692201, 0.16949275,\n",
       "        0.55680126],\n",
       "       [0.93615477, 0.6960298 , 0.57006117, ..., 0.69673717, 0.62894285,\n",
       "        0.87747201],\n",
       "       ...,\n",
       "       [0.11221154, 0.57312792, 0.7809744 , ..., 0.42615155, 0.94584441,\n",
       "        0.21772903],\n",
       "       [0.2567416 , 0.1008888 , 0.60557027, ..., 0.10301919, 0.07180755,\n",
       "        0.09427598],\n",
       "       [0.58286936, 0.05166218, 0.33692687, ..., 0.48105113, 0.67402618,\n",
       "        0.43498418]], shape=(100, 128))"
      ]
     },
     "execution_count": 2,
     "metadata": {},
     "output_type": "execute_result"
    }
   ],
   "source": [
    "# embeddings de exemplo\n",
    "np.random.seed(42)\n",
    "embeddings = np.random.rand(100, 128)  # 100 embeddings (representando 100 chunks ou palavras) de 128 dimensões\n",
    "embeddings"
   ]
  },
  {
   "cell_type": "code",
   "execution_count": 3,
   "id": "f5db321d",
   "metadata": {},
   "outputs": [
    {
     "data": {
      "text/plain": [
       "(100, 50)"
      ]
     },
     "execution_count": 3,
     "metadata": {},
     "output_type": "execute_result"
    }
   ],
   "source": [
    "# ---- PCA para reduzir para 50 dimensões antes do t-SNE ----\n",
    "pca = PCA(n_components=50)\n",
    "embeddings_pca = pca.fit_transform(embeddings)\n",
    "embeddings_pca.shape\n"
   ]
  },
  {
   "cell_type": "code",
   "execution_count": 4,
   "id": "ad6ab96e",
   "metadata": {},
   "outputs": [
    {
     "data": {
      "text/plain": [
       "(100, 3)"
      ]
     },
     "execution_count": 4,
     "metadata": {},
     "output_type": "execute_result"
    }
   ],
   "source": [
    "# ---- t-SNE para reduzir para 2 dimensões ----\n",
    "tsne = TSNE(n_components=3, random_state=42, perplexity=30, learning_rate=200)\n",
    "embeddings_2d = tsne.fit_transform(embeddings_pca)\n",
    "embeddings_2d.shape"
   ]
  },
  {
   "cell_type": "code",
   "execution_count": 6,
   "id": "134f409e",
   "metadata": {},
   "outputs": [
    {
     "data": {
      "application/vnd.plotly.v1+json": {
       "config": {
        "plotlyServerURL": "https://plot.ly"
       },
       "data": [
        {
         "hovertemplate": "x=%{x}<br>y=%{y}<br>z=%{z}<br>id=%{text}<extra></extra>",
         "legendgroup": "",
         "marker": {
          "color": "#636efa",
          "opacity": 0.7,
          "size": 4,
          "symbol": "circle"
         },
         "mode": "markers+text",
         "name": "",
         "scene": "scene",
         "showlegend": false,
         "text": [
          "embedding_0",
          "embedding_1",
          "embedding_2",
          "embedding_3",
          "embedding_4",
          "embedding_5",
          "embedding_6",
          "embedding_7",
          "embedding_8",
          "embedding_9",
          "embedding_10",
          "embedding_11",
          "embedding_12",
          "embedding_13",
          "embedding_14",
          "embedding_15",
          "embedding_16",
          "embedding_17",
          "embedding_18",
          "embedding_19",
          "embedding_20",
          "embedding_21",
          "embedding_22",
          "embedding_23",
          "embedding_24",
          "embedding_25",
          "embedding_26",
          "embedding_27",
          "embedding_28",
          "embedding_29",
          "embedding_30",
          "embedding_31",
          "embedding_32",
          "embedding_33",
          "embedding_34",
          "embedding_35",
          "embedding_36",
          "embedding_37",
          "embedding_38",
          "embedding_39",
          "embedding_40",
          "embedding_41",
          "embedding_42",
          "embedding_43",
          "embedding_44",
          "embedding_45",
          "embedding_46",
          "embedding_47",
          "embedding_48",
          "embedding_49",
          "embedding_50",
          "embedding_51",
          "embedding_52",
          "embedding_53",
          "embedding_54",
          "embedding_55",
          "embedding_56",
          "embedding_57",
          "embedding_58",
          "embedding_59",
          "embedding_60",
          "embedding_61",
          "embedding_62",
          "embedding_63",
          "embedding_64",
          "embedding_65",
          "embedding_66",
          "embedding_67",
          "embedding_68",
          "embedding_69",
          "embedding_70",
          "embedding_71",
          "embedding_72",
          "embedding_73",
          "embedding_74",
          "embedding_75",
          "embedding_76",
          "embedding_77",
          "embedding_78",
          "embedding_79",
          "embedding_80",
          "embedding_81",
          "embedding_82",
          "embedding_83",
          "embedding_84",
          "embedding_85",
          "embedding_86",
          "embedding_87",
          "embedding_88",
          "embedding_89",
          "embedding_90",
          "embedding_91",
          "embedding_92",
          "embedding_93",
          "embedding_94",
          "embedding_95",
          "embedding_96",
          "embedding_97",
          "embedding_98",
          "embedding_99"
         ],
         "type": "scatter3d",
         "x": {
          "bdata": "mo8KwrF2EcNwVifCKEL/we07lkLXtx3CEShIw3q8DsO+WNtCzNtJQ1SKr0C+FwHDorKvQotIP0IZVDpCJXl6wnGOrcIHO5fCcnAXQ6TWn8JKF65CmLknw4GgsL/67r/CkSIbQ+rHIcAgZvBCnjsoQtkdeMIgDdDC/6AxQbKX9ELnY4pC3X81Q+ksBUEFy61CPWwTQ1hk8sJIrSxDDZS+QkwAAkJOST7DroxoQmTgIsN1rOHCeiI5wZtT80HuNlRCbpB/v9mvyEJUri9D9DYsP6XSWsLy90tD57pqQsjnKsIXigdCcznXwNTdwsJ/bhhCqVq5wm1FzcIPlDZCZ3/8wVegzr8Yn6NClJIJQ37/37+RMLvCUhIfwi0odcLbJirDkpaSQpKVl8LZf8/CxfUuwy4Kkj83NplCeUSJwSYvMcIRxTXDczHzwlW2yUJHqRFDGV2CwutmmEKJPPBC9p4AQ39zkEJFyLFCoA+bwmBw1cHlg61BFy/5Qm4pmsFQCgbDNb21wtxsd0LyRgXCWKIewA==",
          "dtype": "f4"
         },
         "y": {
          "bdata": "tFlaQ2D/ssDYArvC3GxXw0++1EJYDQZDo8j0QYwWIUP8zUrDG2EWQr9RmUIQX1VBsOAHwpRPNsKqaSDB568MQVdoh8J3GIrCtQQdQ720r0EH4Z7AFmqtwojpYMEyvhbDitsrwn3EoMKtlL1CMl04wI5ykEJDEJRCSgmYQn7bE8Kg96fCkoWSwpT8u0B9YCNDSasBQmisicLau75B7Hw3QircMEK4CI3BRLi0QVf5j0KJEQrD1GQUQ3k+o8JwaiHDovUewzrB8sJszYjCbnwMwwSxTMJE4klCpKUoQ2HxmUKWurXCEBQNQ3WqD0MBHBJDGrchw8+mxUJmdVPBeiX0Qtf/R8IQFCPDNyA3QiJ5PUOINBhDiprSwuXCuMHPFKLCdhe/QozOisLnu3ZBHrrewenSk8KYPRRC4Jx6wMMlDMNOWAJDa/3/wc0wXsJA2eBCeVYXQxIXr8KlGxpCrnENw06ymkLa6OjCK+chwIJ9CUIWhSHDZ+cJwt2UMELw3zVCMOSrQql14EJda8g/AxaYQg==",
          "dtype": "f4"
         },
         "z": {
          "bdata": "EbKawe5drb9O3SbDlL6swTg6I0PnVHJCWmI2QhdXkMK9CVRBHrUzQjILkMKm1ylDt0RWw4h0QkNGSwDCKXzrQkzNW8IVjNlBtLuiwBUy6kF5heRCShLTwVxuRsMrc6zCEo6/Qg0KbEIyyVPC8UbiwmZhAEN4zRXDmEo8w9TnJkL+MKbCuJ07QY7n20JaVBjCg0nuQlGk/8JOJzLCPWNPwrK6p8A614/CzX0iQ4MPAMLqLbpCcZs/wVgIgcF6oAjC3OAZQjLtrMEQfKDCDdfHwucfRUMKdi7DfYKWQm94EsFoaB/DWnMOQ/RI90I9l53CYIUKQaQyQ0LP0zxCTRMMwxBXpMKANKlCzN/xwmJxwMIj0qDAvNbOwed49cIUCVtC9ArdwjmbAkMl/2nC2l4mwyYFB0N5zy3DU/0YQpxpz0LiqwZCkzmiQtqLD8PurodC/TaywgtaKULaLatBvpjTwmjio0KamedCmx83wyzH+ML6jR1Dpg71wZagRkM3W6tChASKwhJjI0FaZBTCXGWDQg==",
          "dtype": "f4"
         }
        }
       ],
       "layout": {
        "height": 700,
        "legend": {
         "tracegroupgap": 0
        },
        "scene": {
         "aspectmode": "cube",
         "domain": {
          "x": [
           0,
           1
          ],
          "y": [
           0,
           1
          ]
         },
         "xaxis": {
          "title": {
           "text": "x"
          }
         },
         "yaxis": {
          "title": {
           "text": "y"
          }
         },
         "zaxis": {
          "title": {
           "text": "z"
          }
         }
        },
        "template": {
         "data": {
          "bar": [
           {
            "error_x": {
             "color": "#2a3f5f"
            },
            "error_y": {
             "color": "#2a3f5f"
            },
            "marker": {
             "line": {
              "color": "#E5ECF6",
              "width": 0.5
             },
             "pattern": {
              "fillmode": "overlay",
              "size": 10,
              "solidity": 0.2
             }
            },
            "type": "bar"
           }
          ],
          "barpolar": [
           {
            "marker": {
             "line": {
              "color": "#E5ECF6",
              "width": 0.5
             },
             "pattern": {
              "fillmode": "overlay",
              "size": 10,
              "solidity": 0.2
             }
            },
            "type": "barpolar"
           }
          ],
          "carpet": [
           {
            "aaxis": {
             "endlinecolor": "#2a3f5f",
             "gridcolor": "white",
             "linecolor": "white",
             "minorgridcolor": "white",
             "startlinecolor": "#2a3f5f"
            },
            "baxis": {
             "endlinecolor": "#2a3f5f",
             "gridcolor": "white",
             "linecolor": "white",
             "minorgridcolor": "white",
             "startlinecolor": "#2a3f5f"
            },
            "type": "carpet"
           }
          ],
          "choropleth": [
           {
            "colorbar": {
             "outlinewidth": 0,
             "ticks": ""
            },
            "type": "choropleth"
           }
          ],
          "contour": [
           {
            "colorbar": {
             "outlinewidth": 0,
             "ticks": ""
            },
            "colorscale": [
             [
              0,
              "#0d0887"
             ],
             [
              0.1111111111111111,
              "#46039f"
             ],
             [
              0.2222222222222222,
              "#7201a8"
             ],
             [
              0.3333333333333333,
              "#9c179e"
             ],
             [
              0.4444444444444444,
              "#bd3786"
             ],
             [
              0.5555555555555556,
              "#d8576b"
             ],
             [
              0.6666666666666666,
              "#ed7953"
             ],
             [
              0.7777777777777778,
              "#fb9f3a"
             ],
             [
              0.8888888888888888,
              "#fdca26"
             ],
             [
              1,
              "#f0f921"
             ]
            ],
            "type": "contour"
           }
          ],
          "contourcarpet": [
           {
            "colorbar": {
             "outlinewidth": 0,
             "ticks": ""
            },
            "type": "contourcarpet"
           }
          ],
          "heatmap": [
           {
            "colorbar": {
             "outlinewidth": 0,
             "ticks": ""
            },
            "colorscale": [
             [
              0,
              "#0d0887"
             ],
             [
              0.1111111111111111,
              "#46039f"
             ],
             [
              0.2222222222222222,
              "#7201a8"
             ],
             [
              0.3333333333333333,
              "#9c179e"
             ],
             [
              0.4444444444444444,
              "#bd3786"
             ],
             [
              0.5555555555555556,
              "#d8576b"
             ],
             [
              0.6666666666666666,
              "#ed7953"
             ],
             [
              0.7777777777777778,
              "#fb9f3a"
             ],
             [
              0.8888888888888888,
              "#fdca26"
             ],
             [
              1,
              "#f0f921"
             ]
            ],
            "type": "heatmap"
           }
          ],
          "histogram": [
           {
            "marker": {
             "pattern": {
              "fillmode": "overlay",
              "size": 10,
              "solidity": 0.2
             }
            },
            "type": "histogram"
           }
          ],
          "histogram2d": [
           {
            "colorbar": {
             "outlinewidth": 0,
             "ticks": ""
            },
            "colorscale": [
             [
              0,
              "#0d0887"
             ],
             [
              0.1111111111111111,
              "#46039f"
             ],
             [
              0.2222222222222222,
              "#7201a8"
             ],
             [
              0.3333333333333333,
              "#9c179e"
             ],
             [
              0.4444444444444444,
              "#bd3786"
             ],
             [
              0.5555555555555556,
              "#d8576b"
             ],
             [
              0.6666666666666666,
              "#ed7953"
             ],
             [
              0.7777777777777778,
              "#fb9f3a"
             ],
             [
              0.8888888888888888,
              "#fdca26"
             ],
             [
              1,
              "#f0f921"
             ]
            ],
            "type": "histogram2d"
           }
          ],
          "histogram2dcontour": [
           {
            "colorbar": {
             "outlinewidth": 0,
             "ticks": ""
            },
            "colorscale": [
             [
              0,
              "#0d0887"
             ],
             [
              0.1111111111111111,
              "#46039f"
             ],
             [
              0.2222222222222222,
              "#7201a8"
             ],
             [
              0.3333333333333333,
              "#9c179e"
             ],
             [
              0.4444444444444444,
              "#bd3786"
             ],
             [
              0.5555555555555556,
              "#d8576b"
             ],
             [
              0.6666666666666666,
              "#ed7953"
             ],
             [
              0.7777777777777778,
              "#fb9f3a"
             ],
             [
              0.8888888888888888,
              "#fdca26"
             ],
             [
              1,
              "#f0f921"
             ]
            ],
            "type": "histogram2dcontour"
           }
          ],
          "mesh3d": [
           {
            "colorbar": {
             "outlinewidth": 0,
             "ticks": ""
            },
            "type": "mesh3d"
           }
          ],
          "parcoords": [
           {
            "line": {
             "colorbar": {
              "outlinewidth": 0,
              "ticks": ""
             }
            },
            "type": "parcoords"
           }
          ],
          "pie": [
           {
            "automargin": true,
            "type": "pie"
           }
          ],
          "scatter": [
           {
            "fillpattern": {
             "fillmode": "overlay",
             "size": 10,
             "solidity": 0.2
            },
            "type": "scatter"
           }
          ],
          "scatter3d": [
           {
            "line": {
             "colorbar": {
              "outlinewidth": 0,
              "ticks": ""
             }
            },
            "marker": {
             "colorbar": {
              "outlinewidth": 0,
              "ticks": ""
             }
            },
            "type": "scatter3d"
           }
          ],
          "scattercarpet": [
           {
            "marker": {
             "colorbar": {
              "outlinewidth": 0,
              "ticks": ""
             }
            },
            "type": "scattercarpet"
           }
          ],
          "scattergeo": [
           {
            "marker": {
             "colorbar": {
              "outlinewidth": 0,
              "ticks": ""
             }
            },
            "type": "scattergeo"
           }
          ],
          "scattergl": [
           {
            "marker": {
             "colorbar": {
              "outlinewidth": 0,
              "ticks": ""
             }
            },
            "type": "scattergl"
           }
          ],
          "scattermap": [
           {
            "marker": {
             "colorbar": {
              "outlinewidth": 0,
              "ticks": ""
             }
            },
            "type": "scattermap"
           }
          ],
          "scattermapbox": [
           {
            "marker": {
             "colorbar": {
              "outlinewidth": 0,
              "ticks": ""
             }
            },
            "type": "scattermapbox"
           }
          ],
          "scatterpolar": [
           {
            "marker": {
             "colorbar": {
              "outlinewidth": 0,
              "ticks": ""
             }
            },
            "type": "scatterpolar"
           }
          ],
          "scatterpolargl": [
           {
            "marker": {
             "colorbar": {
              "outlinewidth": 0,
              "ticks": ""
             }
            },
            "type": "scatterpolargl"
           }
          ],
          "scatterternary": [
           {
            "marker": {
             "colorbar": {
              "outlinewidth": 0,
              "ticks": ""
             }
            },
            "type": "scatterternary"
           }
          ],
          "surface": [
           {
            "colorbar": {
             "outlinewidth": 0,
             "ticks": ""
            },
            "colorscale": [
             [
              0,
              "#0d0887"
             ],
             [
              0.1111111111111111,
              "#46039f"
             ],
             [
              0.2222222222222222,
              "#7201a8"
             ],
             [
              0.3333333333333333,
              "#9c179e"
             ],
             [
              0.4444444444444444,
              "#bd3786"
             ],
             [
              0.5555555555555556,
              "#d8576b"
             ],
             [
              0.6666666666666666,
              "#ed7953"
             ],
             [
              0.7777777777777778,
              "#fb9f3a"
             ],
             [
              0.8888888888888888,
              "#fdca26"
             ],
             [
              1,
              "#f0f921"
             ]
            ],
            "type": "surface"
           }
          ],
          "table": [
           {
            "cells": {
             "fill": {
              "color": "#EBF0F8"
             },
             "line": {
              "color": "white"
             }
            },
            "header": {
             "fill": {
              "color": "#C8D4E3"
             },
             "line": {
              "color": "white"
             }
            },
            "type": "table"
           }
          ]
         },
         "layout": {
          "annotationdefaults": {
           "arrowcolor": "#2a3f5f",
           "arrowhead": 0,
           "arrowwidth": 1
          },
          "autotypenumbers": "strict",
          "coloraxis": {
           "colorbar": {
            "outlinewidth": 0,
            "ticks": ""
           }
          },
          "colorscale": {
           "diverging": [
            [
             0,
             "#8e0152"
            ],
            [
             0.1,
             "#c51b7d"
            ],
            [
             0.2,
             "#de77ae"
            ],
            [
             0.3,
             "#f1b6da"
            ],
            [
             0.4,
             "#fde0ef"
            ],
            [
             0.5,
             "#f7f7f7"
            ],
            [
             0.6,
             "#e6f5d0"
            ],
            [
             0.7,
             "#b8e186"
            ],
            [
             0.8,
             "#7fbc41"
            ],
            [
             0.9,
             "#4d9221"
            ],
            [
             1,
             "#276419"
            ]
           ],
           "sequential": [
            [
             0,
             "#0d0887"
            ],
            [
             0.1111111111111111,
             "#46039f"
            ],
            [
             0.2222222222222222,
             "#7201a8"
            ],
            [
             0.3333333333333333,
             "#9c179e"
            ],
            [
             0.4444444444444444,
             "#bd3786"
            ],
            [
             0.5555555555555556,
             "#d8576b"
            ],
            [
             0.6666666666666666,
             "#ed7953"
            ],
            [
             0.7777777777777778,
             "#fb9f3a"
            ],
            [
             0.8888888888888888,
             "#fdca26"
            ],
            [
             1,
             "#f0f921"
            ]
           ],
           "sequentialminus": [
            [
             0,
             "#0d0887"
            ],
            [
             0.1111111111111111,
             "#46039f"
            ],
            [
             0.2222222222222222,
             "#7201a8"
            ],
            [
             0.3333333333333333,
             "#9c179e"
            ],
            [
             0.4444444444444444,
             "#bd3786"
            ],
            [
             0.5555555555555556,
             "#d8576b"
            ],
            [
             0.6666666666666666,
             "#ed7953"
            ],
            [
             0.7777777777777778,
             "#fb9f3a"
            ],
            [
             0.8888888888888888,
             "#fdca26"
            ],
            [
             1,
             "#f0f921"
            ]
           ]
          },
          "colorway": [
           "#636efa",
           "#EF553B",
           "#00cc96",
           "#ab63fa",
           "#FFA15A",
           "#19d3f3",
           "#FF6692",
           "#B6E880",
           "#FF97FF",
           "#FECB52"
          ],
          "font": {
           "color": "#2a3f5f"
          },
          "geo": {
           "bgcolor": "white",
           "lakecolor": "white",
           "landcolor": "#E5ECF6",
           "showlakes": true,
           "showland": true,
           "subunitcolor": "white"
          },
          "hoverlabel": {
           "align": "left"
          },
          "hovermode": "closest",
          "mapbox": {
           "style": "light"
          },
          "paper_bgcolor": "white",
          "plot_bgcolor": "#E5ECF6",
          "polar": {
           "angularaxis": {
            "gridcolor": "white",
            "linecolor": "white",
            "ticks": ""
           },
           "bgcolor": "#E5ECF6",
           "radialaxis": {
            "gridcolor": "white",
            "linecolor": "white",
            "ticks": ""
           }
          },
          "scene": {
           "xaxis": {
            "backgroundcolor": "#E5ECF6",
            "gridcolor": "white",
            "gridwidth": 2,
            "linecolor": "white",
            "showbackground": true,
            "ticks": "",
            "zerolinecolor": "white"
           },
           "yaxis": {
            "backgroundcolor": "#E5ECF6",
            "gridcolor": "white",
            "gridwidth": 2,
            "linecolor": "white",
            "showbackground": true,
            "ticks": "",
            "zerolinecolor": "white"
           },
           "zaxis": {
            "backgroundcolor": "#E5ECF6",
            "gridcolor": "white",
            "gridwidth": 2,
            "linecolor": "white",
            "showbackground": true,
            "ticks": "",
            "zerolinecolor": "white"
           }
          },
          "shapedefaults": {
           "line": {
            "color": "#2a3f5f"
           }
          },
          "ternary": {
           "aaxis": {
            "gridcolor": "white",
            "linecolor": "white",
            "ticks": ""
           },
           "baxis": {
            "gridcolor": "white",
            "linecolor": "white",
            "ticks": ""
           },
           "bgcolor": "#E5ECF6",
           "caxis": {
            "gridcolor": "white",
            "linecolor": "white",
            "ticks": ""
           }
          },
          "title": {
           "x": 0.05
          },
          "xaxis": {
           "automargin": true,
           "gridcolor": "white",
           "linecolor": "white",
           "ticks": "",
           "title": {
            "standoff": 15
           },
           "zerolinecolor": "white",
           "zerolinewidth": 2
          },
          "yaxis": {
           "automargin": true,
           "gridcolor": "white",
           "linecolor": "white",
           "ticks": "",
           "title": {
            "standoff": 15
           },
           "zerolinecolor": "white",
           "zerolinewidth": 2
          }
         }
        },
        "title": {
         "text": "Visualização de Embeddings em 3D (t-SNE + Plotly)"
        },
        "width": 700
       }
      }
     },
     "metadata": {},
     "output_type": "display_data"
    }
   ],
   "source": [
    "# ---- Criar DataFrame com Plotly ----\n",
    "import pandas as pd\n",
    "df = pd.DataFrame({\n",
    "    \"x\": embeddings_2d[:, 0],\n",
    "    \"y\": embeddings_2d[:, 1],\n",
    "    \"z\": embeddings_2d[:, 2],\n",
    "    \"id\": [f\"embedding_{i}\" for i in range(len(embeddings))]\n",
    "})\n",
    "\n",
    "# ---- Visualização 3D interativa ----\n",
    "fig = px.scatter_3d(\n",
    "    df, x=\"x\", y=\"y\", z=\"z\",\n",
    "    text=\"id\",  # aparece ao passar o mouse\n",
    "    opacity=0.7,\n",
    "    title=\"Visualização de Embeddings em 3D (t-SNE + Plotly)\"\n",
    ")\n",
    "\n",
    "fig.update_traces(marker=dict(size=4))\n",
    "fig.update_layout(\n",
    "    width=700,\n",
    "    height=700,\n",
    "    scene=dict(\n",
    "        aspectmode=\"cube\"  # força proporção 1:1:1 entre x, y, z\n",
    "    )\n",
    ")\n",
    "fig.show()"
   ]
  },
  {
   "cell_type": "code",
   "execution_count": null,
   "id": "9fb96229",
   "metadata": {},
   "outputs": [],
   "source": []
  },
  {
   "cell_type": "code",
   "execution_count": null,
   "id": "035360a5",
   "metadata": {},
   "outputs": [],
   "source": []
  },
  {
   "cell_type": "code",
   "execution_count": null,
   "id": "760382de",
   "metadata": {},
   "outputs": [],
   "source": []
  },
  {
   "cell_type": "code",
   "execution_count": null,
   "id": "ea1b28bd",
   "metadata": {},
   "outputs": [],
   "source": []
  }
 ],
 "metadata": {
  "kernelspec": {
   "display_name": "doutorado",
   "language": "python",
   "name": "python3"
  },
  "language_info": {
   "codemirror_mode": {
    "name": "ipython",
    "version": 3
   },
   "file_extension": ".py",
   "mimetype": "text/x-python",
   "name": "python",
   "nbconvert_exporter": "python",
   "pygments_lexer": "ipython3",
   "version": "3.12.5"
  }
 },
 "nbformat": 4,
 "nbformat_minor": 5
}
