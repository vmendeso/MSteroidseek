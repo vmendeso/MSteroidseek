{
 "cells": [
  {
   "cell_type": "code",
   "execution_count": 1,
   "id": "857cd72e",
   "metadata": {},
   "outputs": [
    {
     "name": "stdout",
     "output_type": "stream",
     "text": [
      "Requirement already satisfied: sentence-transformers in /home/sakod/.pyenv/versions/doutorado/lib/python3.12/site-packages (5.1.0)\n",
      "Requirement already satisfied: torch in /home/sakod/.pyenv/versions/doutorado/lib/python3.12/site-packages (2.8.0)\n",
      "Requirement already satisfied: transformers<5.0.0,>=4.41.0 in /home/sakod/.pyenv/versions/doutorado/lib/python3.12/site-packages (from sentence-transformers) (4.56.1)\n",
      "Requirement already satisfied: tqdm in /home/sakod/.pyenv/versions/doutorado/lib/python3.12/site-packages (from sentence-transformers) (4.67.1)\n",
      "Requirement already satisfied: scikit-learn in /home/sakod/.pyenv/versions/doutorado/lib/python3.12/site-packages (from sentence-transformers) (1.6.1)\n",
      "Requirement already satisfied: scipy in /home/sakod/.pyenv/versions/doutorado/lib/python3.12/site-packages (from sentence-transformers) (1.15.2)\n",
      "Requirement already satisfied: huggingface-hub>=0.20.0 in /home/sakod/.pyenv/versions/doutorado/lib/python3.12/site-packages (from sentence-transformers) (0.34.4)\n",
      "Requirement already satisfied: Pillow in /home/sakod/.pyenv/versions/doutorado/lib/python3.12/site-packages (from sentence-transformers) (11.2.1)\n",
      "Requirement already satisfied: typing_extensions>=4.5.0 in /home/sakod/.pyenv/versions/doutorado/lib/python3.12/site-packages (from sentence-transformers) (4.13.2)\n",
      "Requirement already satisfied: filelock in /home/sakod/.pyenv/versions/doutorado/lib/python3.12/site-packages (from torch) (3.19.1)\n",
      "Requirement already satisfied: setuptools in /home/sakod/.pyenv/versions/doutorado/lib/python3.12/site-packages (from torch) (68.2.2)\n",
      "Requirement already satisfied: sympy>=1.13.3 in /home/sakod/.pyenv/versions/doutorado/lib/python3.12/site-packages (from torch) (1.14.0)\n",
      "Requirement already satisfied: networkx in /home/sakod/.pyenv/versions/doutorado/lib/python3.12/site-packages (from torch) (3.5)\n",
      "Requirement already satisfied: jinja2 in /home/sakod/.pyenv/versions/doutorado/lib/python3.12/site-packages (from torch) (3.1.6)\n",
      "Requirement already satisfied: fsspec in /home/sakod/.pyenv/versions/doutorado/lib/python3.12/site-packages (from torch) (2025.9.0)\n",
      "Requirement already satisfied: nvidia-cuda-nvrtc-cu12==12.8.93 in /home/sakod/.pyenv/versions/doutorado/lib/python3.12/site-packages (from torch) (12.8.93)\n",
      "Requirement already satisfied: nvidia-cuda-runtime-cu12==12.8.90 in /home/sakod/.pyenv/versions/doutorado/lib/python3.12/site-packages (from torch) (12.8.90)\n",
      "Requirement already satisfied: nvidia-cuda-cupti-cu12==12.8.90 in /home/sakod/.pyenv/versions/doutorado/lib/python3.12/site-packages (from torch) (12.8.90)\n",
      "Requirement already satisfied: nvidia-cudnn-cu12==9.10.2.21 in /home/sakod/.pyenv/versions/doutorado/lib/python3.12/site-packages (from torch) (9.10.2.21)\n",
      "Requirement already satisfied: nvidia-cublas-cu12==12.8.4.1 in /home/sakod/.pyenv/versions/doutorado/lib/python3.12/site-packages (from torch) (12.8.4.1)\n",
      "Requirement already satisfied: nvidia-cufft-cu12==11.3.3.83 in /home/sakod/.pyenv/versions/doutorado/lib/python3.12/site-packages (from torch) (11.3.3.83)\n",
      "Requirement already satisfied: nvidia-curand-cu12==10.3.9.90 in /home/sakod/.pyenv/versions/doutorado/lib/python3.12/site-packages (from torch) (10.3.9.90)\n",
      "Requirement already satisfied: nvidia-cusolver-cu12==11.7.3.90 in /home/sakod/.pyenv/versions/doutorado/lib/python3.12/site-packages (from torch) (11.7.3.90)\n",
      "Requirement already satisfied: nvidia-cusparse-cu12==12.5.8.93 in /home/sakod/.pyenv/versions/doutorado/lib/python3.12/site-packages (from torch) (12.5.8.93)\n",
      "Requirement already satisfied: nvidia-cusparselt-cu12==0.7.1 in /home/sakod/.pyenv/versions/doutorado/lib/python3.12/site-packages (from torch) (0.7.1)\n",
      "Requirement already satisfied: nvidia-nccl-cu12==2.27.3 in /home/sakod/.pyenv/versions/doutorado/lib/python3.12/site-packages (from torch) (2.27.3)\n",
      "Requirement already satisfied: nvidia-nvtx-cu12==12.8.90 in /home/sakod/.pyenv/versions/doutorado/lib/python3.12/site-packages (from torch) (12.8.90)\n",
      "Requirement already satisfied: nvidia-nvjitlink-cu12==12.8.93 in /home/sakod/.pyenv/versions/doutorado/lib/python3.12/site-packages (from torch) (12.8.93)\n",
      "Requirement already satisfied: nvidia-cufile-cu12==1.13.1.3 in /home/sakod/.pyenv/versions/doutorado/lib/python3.12/site-packages (from torch) (1.13.1.3)\n",
      "Requirement already satisfied: triton==3.4.0 in /home/sakod/.pyenv/versions/doutorado/lib/python3.12/site-packages (from torch) (3.4.0)\n",
      "Requirement already satisfied: packaging>=20.9 in /home/sakod/.pyenv/versions/doutorado/lib/python3.12/site-packages (from huggingface-hub>=0.20.0->sentence-transformers) (24.2)\n",
      "Requirement already satisfied: pyyaml>=5.1 in /home/sakod/.pyenv/versions/doutorado/lib/python3.12/site-packages (from huggingface-hub>=0.20.0->sentence-transformers) (6.0.2)\n",
      "Requirement already satisfied: requests in /home/sakod/.pyenv/versions/doutorado/lib/python3.12/site-packages (from huggingface-hub>=0.20.0->sentence-transformers) (2.32.3)\n",
      "Requirement already satisfied: hf-xet<2.0.0,>=1.1.3 in /home/sakod/.pyenv/versions/doutorado/lib/python3.12/site-packages (from huggingface-hub>=0.20.0->sentence-transformers) (1.1.9)\n",
      "Requirement already satisfied: mpmath<1.4,>=1.1.0 in /home/sakod/.pyenv/versions/doutorado/lib/python3.12/site-packages (from sympy>=1.13.3->torch) (1.3.0)\n",
      "Requirement already satisfied: numpy>=1.17 in /home/sakod/.pyenv/versions/doutorado/lib/python3.12/site-packages (from transformers<5.0.0,>=4.41.0->sentence-transformers) (2.2.4)\n",
      "Requirement already satisfied: regex!=2019.12.17 in /home/sakod/.pyenv/versions/doutorado/lib/python3.12/site-packages (from transformers<5.0.0,>=4.41.0->sentence-transformers) (2025.9.1)\n",
      "Requirement already satisfied: tokenizers<=0.23.0,>=0.22.0 in /home/sakod/.pyenv/versions/doutorado/lib/python3.12/site-packages (from transformers<5.0.0,>=4.41.0->sentence-transformers) (0.22.0)\n",
      "Requirement already satisfied: safetensors>=0.4.3 in /home/sakod/.pyenv/versions/doutorado/lib/python3.12/site-packages (from transformers<5.0.0,>=4.41.0->sentence-transformers) (0.6.2)\n",
      "Requirement already satisfied: MarkupSafe>=2.0 in /home/sakod/.pyenv/versions/doutorado/lib/python3.12/site-packages (from jinja2->torch) (3.0.2)\n",
      "Requirement already satisfied: joblib>=1.2.0 in /home/sakod/.pyenv/versions/doutorado/lib/python3.12/site-packages (from scikit-learn->sentence-transformers) (1.4.2)\n",
      "Requirement already satisfied: threadpoolctl>=3.1.0 in /home/sakod/.pyenv/versions/doutorado/lib/python3.12/site-packages (from scikit-learn->sentence-transformers) (3.6.0)\n",
      "Requirement already satisfied: charset-normalizer<4,>=2 in /home/sakod/.pyenv/versions/doutorado/lib/python3.12/site-packages (from requests->huggingface-hub>=0.20.0->sentence-transformers) (3.4.1)\n",
      "Requirement already satisfied: idna<4,>=2.5 in /home/sakod/.pyenv/versions/doutorado/lib/python3.12/site-packages (from requests->huggingface-hub>=0.20.0->sentence-transformers) (3.10)\n",
      "Requirement already satisfied: urllib3<3,>=1.21.1 in /home/sakod/.pyenv/versions/doutorado/lib/python3.12/site-packages (from requests->huggingface-hub>=0.20.0->sentence-transformers) (2.4.0)\n",
      "Requirement already satisfied: certifi>=2017.4.17 in /home/sakod/.pyenv/versions/doutorado/lib/python3.12/site-packages (from requests->huggingface-hub>=0.20.0->sentence-transformers) (2025.1.31)\n",
      "\n",
      "\u001b[1m[\u001b[0m\u001b[34;49mnotice\u001b[0m\u001b[1;39;49m]\u001b[0m\u001b[39;49m A new release of pip is available: \u001b[0m\u001b[31;49m25.0.1\u001b[0m\u001b[39;49m -> \u001b[0m\u001b[32;49m25.2\u001b[0m\n",
      "\u001b[1m[\u001b[0m\u001b[34;49mnotice\u001b[0m\u001b[1;39;49m]\u001b[0m\u001b[39;49m To update, run: \u001b[0m\u001b[32;49mpip install --upgrade pip\u001b[0m\n",
      "Note: you may need to restart the kernel to use updated packages.\n"
     ]
    }
   ],
   "source": [
    "pip install -U sentence-transformers torch\n"
   ]
  },
  {
   "cell_type": "code",
   "execution_count": 2,
   "id": "f856a64d",
   "metadata": {},
   "outputs": [
    {
     "name": "stderr",
     "output_type": "stream",
     "text": [
      "/home/sakod/.pyenv/versions/doutorado/lib/python3.12/site-packages/tqdm/auto.py:21: TqdmWarning: IProgress not found. Please update jupyter and ipywidgets. See https://ipywidgets.readthedocs.io/en/stable/user_install.html\n",
      "  from .autonotebook import tqdm as notebook_tqdm\n"
     ]
    }
   ],
   "source": [
    "\n",
    "# Importações chunk\n",
    "import numpy as np\n",
    "import plotly.express as px\n",
    "from sklearn.decomposition import PCA\n",
    "from sklearn.manifold import TSNE\n",
    "\n",
    "# Importações embedding\n",
    "from typing import List, Tuple, Optional\n",
    "import numpy as np\n",
    "import torch\n",
    "from sentence_transformers import SentenceTransformer"
   ]
  },
  {
   "cell_type": "code",
   "execution_count": null,
   "id": "022aed33",
   "metadata": {},
   "outputs": [],
   "source": []
  },
  {
   "cell_type": "code",
   "execution_count": 3,
   "id": "3fb9fddb",
   "metadata": {},
   "outputs": [],
   "source": [
    "def split_text_with_overlap(file_path: str, chunk_size: int = 500, overlap: int = 50):\n",
    "    \"\"\"\n",
    "    Lê um arquivo .txt e divide em chunks de texto com sobreposição.\n",
    "\n",
    "    Args:\n",
    "        file_path (str): Caminho do arquivo de texto.\n",
    "        chunk_size (int): Tamanho de cada chunk (número de caracteres).\n",
    "        overlap (int): Quantidade de sobreposição entre os chunks (número de caracteres).\n",
    "\n",
    "    Returns:\n",
    "        list[str]: Lista de chunks de texto.\n",
    "    \"\"\"\n",
    "    if overlap >= chunk_size:\n",
    "        raise ValueError(\"O valor de overlap deve ser menor que o chunk_size\")\n",
    "\n",
    "    # Lê o arquivo\n",
    "    with open(file_path, \"r\", encoding=\"utf-8\") as f:\n",
    "        text = f.read()\n",
    "\n",
    "    chunks = []\n",
    "    start = 0\n",
    "\n",
    "    while start < len(text):\n",
    "        end = start + chunk_size\n",
    "        chunk = text[start:end]\n",
    "        chunks.append(chunk)\n",
    "\n",
    "        # Avança considerando a sobreposição\n",
    "        start += chunk_size - overlap\n",
    "\n",
    "    return chunks"
   ]
  },
  {
   "cell_type": "code",
   "execution_count": 4,
   "id": "21b7ba5e",
   "metadata": {},
   "outputs": [],
   "source": [
    "def embed_chunks(\n",
    "    chunks: List[str],\n",
    "    model_name: str = \"sentence-transformers/all-MiniLM-L6-v2\",\n",
    "    batch_size: int = 64,\n",
    "    device: Optional[str] = None,\n",
    "    normalize: bool = True,\n",
    ") -> Tuple[np.ndarray, List[str]]:\n",
    "    \"\"\"\n",
    "    Gera embeddings para cada chunk usando Sentence-Transformers.\n",
    "\n",
    "    Args:\n",
    "        chunks (List[str]): Lista de textos (chunks).\n",
    "        model_name (str): Nome do modelo no Hub (ex.: 'all-MiniLM-L6-v2').\n",
    "        batch_size (int): Tamanho do batch para acelerar a inferência.\n",
    "        device (str | None): 'cuda', 'mps', 'cpu' ou None para auto-detecção.\n",
    "        normalize (bool): Se True, retorna embeddings L2 normalizados.\n",
    "\n",
    "    Returns:\n",
    "        Tuple[np.ndarray, List[str]]:\n",
    "            - embeddings: matriz (N x D) com um vetor por chunk.\n",
    "            - chunk_ids: lista de IDs/string helpers para mapear cada linha.\n",
    "    \"\"\"\n",
    "    if not chunks:\n",
    "        return np.empty((0, 0)), []\n",
    "\n",
    "    # Seleção automática do dispositivo\n",
    "    if device is None:\n",
    "        if torch.cuda.is_available():\n",
    "            device = \"cuda\"\n",
    "        elif getattr(torch.backends, \"mps\", None) and torch.backends.mps.is_available():\n",
    "            device = \"mps\"  # Apple Silicon\n",
    "        else:\n",
    "            device = \"cpu\"\n",
    "\n",
    "    model = SentenceTransformer(model_name, device=device)\n",
    "\n",
    "    # encode já suporta batching\n",
    "    embeddings = model.encode(\n",
    "        chunks,\n",
    "        batch_size=batch_size,\n",
    "        convert_to_numpy=True,\n",
    "        normalize_embeddings=normalize,\n",
    "        show_progress_bar=True,\n",
    "    )\n",
    "\n",
    "    # Gera IDs simples para rastrear qual linha pertence a qual chunk\n",
    "    chunk_ids = [f\"chunk_{i:04d}\" for i in range(len(chunks))]\n",
    "    return embeddings, chunk_ids\n"
   ]
  },
  {
   "cell_type": "code",
   "execution_count": 5,
   "id": "f283993a",
   "metadata": {},
   "outputs": [
    {
     "name": "stderr",
     "output_type": "stream",
     "text": [
      "Batches: 100%|██████████| 2/2 [00:00<00:00,  2.34it/s]\n"
     ]
    },
    {
     "data": {
      "text/plain": [
       "((98, 384), 98)"
      ]
     },
     "execution_count": 5,
     "metadata": {},
     "output_type": "execute_result"
    }
   ],
   "source": [
    "# executando o código\n",
    "file_path = \"knowledge_base.txt\"  # Substitua pelo caminho do seu arquivo .txt\n",
    "chunks = split_text_with_overlap(file_path, chunk_size=500, overlap=50)\n",
    "embeddings, chunk_ids = embed_chunks(chunks)    \n",
    "embeddings.shape, len(chunk_ids)"
   ]
  },
  {
   "cell_type": "code",
   "execution_count": null,
   "id": "4a596bb6",
   "metadata": {},
   "outputs": [
    {
     "data": {
      "text/plain": [
       "(98, 3)"
      ]
     },
     "execution_count": 6,
     "metadata": {},
     "output_type": "execute_result"
    }
   ],
   "source": [
    "# ---- PCA para reduzir para 3 dimensões antes do t-SNE ----\n",
    "pca = PCA(n_components=3)\n",
    "embeddings_pca = pca.fit_transform(embeddings)\n",
    "embeddings_pca.shape"
   ]
  },
  {
   "cell_type": "code",
   "execution_count": 52,
   "id": "4d3e76db",
   "metadata": {},
   "outputs": [
    {
     "data": {
      "application/vnd.plotly.v1+json": {
       "config": {
        "plotlyServerURL": "https://plot.ly"
       },
       "data": [
        {
         "hovertemplate": "PC1=%{x}<br>PC2=%{y}<br>PC3=%{z}<br>id=%{text}<extra></extra>",
         "legendgroup": "",
         "marker": {
          "color": "#636efa",
          "opacity": 0.7,
          "size": 4,
          "symbol": "circle"
         },
         "mode": "markers+text",
         "name": "",
         "scene": "scene",
         "showlegend": false,
         "text": [
          "chunk_0000",
          "chunk_0001",
          "chunk_0002",
          "chunk_0003",
          "chunk_0004",
          "chunk_0005",
          "chunk_0006",
          "chunk_0007",
          "chunk_0008",
          "chunk_0009",
          "chunk_0010",
          "chunk_0011",
          "chunk_0012",
          "chunk_0013",
          "chunk_0014",
          "chunk_0015",
          "chunk_0016",
          "chunk_0017",
          "chunk_0018",
          "chunk_0019",
          "chunk_0020",
          "chunk_0021",
          "chunk_0022",
          "chunk_0023",
          "chunk_0024",
          "chunk_0025",
          "chunk_0026",
          "chunk_0027",
          "chunk_0028",
          "chunk_0029",
          "chunk_0030",
          "chunk_0031",
          "chunk_0032",
          "chunk_0033",
          "chunk_0034",
          "chunk_0035",
          "chunk_0036",
          "chunk_0037",
          "chunk_0038",
          "chunk_0039",
          "chunk_0040",
          "chunk_0041",
          "chunk_0042",
          "chunk_0043",
          "chunk_0044",
          "chunk_0045",
          "chunk_0046",
          "chunk_0047",
          "chunk_0048",
          "chunk_0049",
          "chunk_0050",
          "chunk_0051",
          "chunk_0052",
          "chunk_0053",
          "chunk_0054",
          "chunk_0055",
          "chunk_0056",
          "chunk_0057",
          "chunk_0058",
          "chunk_0059",
          "chunk_0060",
          "chunk_0061",
          "chunk_0062",
          "chunk_0063",
          "chunk_0064",
          "chunk_0065",
          "chunk_0066",
          "chunk_0067",
          "chunk_0068",
          "chunk_0069",
          "chunk_0070",
          "chunk_0071",
          "chunk_0072",
          "chunk_0073",
          "chunk_0074",
          "chunk_0075",
          "chunk_0076",
          "chunk_0077",
          "chunk_0078",
          "chunk_0079",
          "chunk_0080",
          "chunk_0081",
          "chunk_0082",
          "chunk_0083",
          "chunk_0084",
          "chunk_0085",
          "chunk_0086",
          "chunk_0087",
          "chunk_0088",
          "chunk_0089",
          "chunk_0090",
          "chunk_0091",
          "chunk_0092",
          "chunk_0093",
          "chunk_0094",
          "chunk_0095",
          "chunk_0096",
          "chunk_0097"
         ],
         "type": "scatter3d",
         "x": {
          "bdata": "1NGkPpD1lD6wJ9Y+jMkPPrYsvz118xy9SWhbPoitljxPSo8+guD6PLSCiTsO6+G9wDDvO3cXNr3F4WC+NSwbvtQD6TzIhLO9K04gvhmIBL6gkFu8EGOuPCjAkr2BnH0+zeQbvat/Gr2omC4+eCpaPdkce74q6Ya+uOSVvZGoM76MZMC9sHq4PbjxqzvmYtQ9lYgSPqpnhj2gTIS+abgYvpdzKr4isdO90gmuPgHNOL3co+g9MHcRPjAnCj7055G9frISvmz1jL3Tq329dwY9vmfAfr2nlYe+nX6kvjJXiL4eYKC+HvvavjTKlb6AeuQ73ZYovlpcyD5Oqqk+XJTAPUloeL6QVo2+bV2+vrbQWL7MESu8RFewvsuPQL2fP1C+jjL3vnPejL66P6C+ENenvvw6hr7wWr69LQMEPw7yXz5jDjc+YLghOtPKUT1vNTE+/9FdPozfvLz/nwk++FXDPmgjAT/U+9Q+ZZbAPuzUn7zCkpc+BCvlu526Pz4XFvA+vdxePji4Pj4=",
          "dtype": "f4"
         },
         "y": {
          "bdata": "atxtPrdALz01Fw09KDaSPBFk8Dxsf909SEpBPgg6Sj70QJk+ShpxPjrThDwOy609yHR6vkwR5728mPk9hPtRPjsNG72m6Y2+FetXvb/2JL76L2S+zbOcvoMlDj2R5ms9YKtcvuR2Iby03We+uO9IvoX0KL2df1w+W52tvmBxz76bjZm+e7okvWYQ6D3iau89pf1KPhYqiz1Vd5C+JSCHvrGaXz3o7/g9/PUSPgtSL74/N1s932U/PSzdfDxXvh+9BI9VPIyJDD1nelc+3ZWWvn/Ahb4cDCW+PkyKvrqjNT0fTR8+9ViFPnCubT60jiO+P+SfPqxNIT0lXcE+HpF3vgu2mD77QMy+sVCEvoEcJL5o/ju+nWIgPuqsKD0pYjE+8XIzPn06wT5V/K8+6j3WPtUqjj6e6cM9c6UjvU0oyL5n9bi+Q358vezTCL4gdY69PHGwvlzALr6GTZu9+w0ZvksiYT3Cbv08tL4HPrLXTT6ECVy8X8QIvVBvRT5V030+MPVQu0oSbT4=",
          "dtype": "f4"
         },
         "z": {
          "bdata": "1MUGvamQTT3M2NW9An6bviyVYL3jsmU+1tZvPemFlT2cJjs+oBujPjErCj8i0bc+l7tBPs7k8D4ENiU+KS5jPkwY7T5LSy0+xQ9hPuD/pDwb0Hm+COwYPl5zNz7tE0c+k6XAPSKxvz1ctNa979IXvooUg70opHw8yCQKPqK/3r3Fyna+zE4jvVFbNL5qwZC9e2Uovq4hx73pwVC+ENS6O7r50r3A4ba+dK8XvfLby70dgXC+/SRnvqCLXLxMrZS9TsMePltwBL5gb0S9cbDGPfXaWz0YECM97JEYPt6jB76oVCW9AJSNungag73Irxc+vWUNPs6AYz1Sgpg9sc4lvkPXAj5QNTg8uG1ePlQBgzx6XCQ+E28xPuvbdb54fYC+WyIBvk8QGr4qQoy+fY0tvmmwLL56com+rO0rvaGRRL7iCb69cB0Gvui/YDwmjHo+gOU+vEwyg755XiS+OUA+vizdab0mIWc9tBIOPnhROL1UGHu9uormvTOUjT4GGSc9Jas1vgN9nj0=",
          "dtype": "f4"
         }
        }
       ],
       "layout": {
        "height": 700,
        "legend": {
         "tracegroupgap": 0
        },
        "scene": {
         "aspectmode": "cube",
         "domain": {
          "x": [
           0,
           1
          ],
          "y": [
           0,
           1
          ]
         },
         "xaxis": {
          "title": {
           "text": "PC1"
          }
         },
         "yaxis": {
          "title": {
           "text": "PC2"
          }
         },
         "zaxis": {
          "title": {
           "text": "PC3"
          }
         }
        },
        "template": {
         "data": {
          "bar": [
           {
            "error_x": {
             "color": "#2a3f5f"
            },
            "error_y": {
             "color": "#2a3f5f"
            },
            "marker": {
             "line": {
              "color": "#E5ECF6",
              "width": 0.5
             },
             "pattern": {
              "fillmode": "overlay",
              "size": 10,
              "solidity": 0.2
             }
            },
            "type": "bar"
           }
          ],
          "barpolar": [
           {
            "marker": {
             "line": {
              "color": "#E5ECF6",
              "width": 0.5
             },
             "pattern": {
              "fillmode": "overlay",
              "size": 10,
              "solidity": 0.2
             }
            },
            "type": "barpolar"
           }
          ],
          "carpet": [
           {
            "aaxis": {
             "endlinecolor": "#2a3f5f",
             "gridcolor": "white",
             "linecolor": "white",
             "minorgridcolor": "white",
             "startlinecolor": "#2a3f5f"
            },
            "baxis": {
             "endlinecolor": "#2a3f5f",
             "gridcolor": "white",
             "linecolor": "white",
             "minorgridcolor": "white",
             "startlinecolor": "#2a3f5f"
            },
            "type": "carpet"
           }
          ],
          "choropleth": [
           {
            "colorbar": {
             "outlinewidth": 0,
             "ticks": ""
            },
            "type": "choropleth"
           }
          ],
          "contour": [
           {
            "colorbar": {
             "outlinewidth": 0,
             "ticks": ""
            },
            "colorscale": [
             [
              0,
              "#0d0887"
             ],
             [
              0.1111111111111111,
              "#46039f"
             ],
             [
              0.2222222222222222,
              "#7201a8"
             ],
             [
              0.3333333333333333,
              "#9c179e"
             ],
             [
              0.4444444444444444,
              "#bd3786"
             ],
             [
              0.5555555555555556,
              "#d8576b"
             ],
             [
              0.6666666666666666,
              "#ed7953"
             ],
             [
              0.7777777777777778,
              "#fb9f3a"
             ],
             [
              0.8888888888888888,
              "#fdca26"
             ],
             [
              1,
              "#f0f921"
             ]
            ],
            "type": "contour"
           }
          ],
          "contourcarpet": [
           {
            "colorbar": {
             "outlinewidth": 0,
             "ticks": ""
            },
            "type": "contourcarpet"
           }
          ],
          "heatmap": [
           {
            "colorbar": {
             "outlinewidth": 0,
             "ticks": ""
            },
            "colorscale": [
             [
              0,
              "#0d0887"
             ],
             [
              0.1111111111111111,
              "#46039f"
             ],
             [
              0.2222222222222222,
              "#7201a8"
             ],
             [
              0.3333333333333333,
              "#9c179e"
             ],
             [
              0.4444444444444444,
              "#bd3786"
             ],
             [
              0.5555555555555556,
              "#d8576b"
             ],
             [
              0.6666666666666666,
              "#ed7953"
             ],
             [
              0.7777777777777778,
              "#fb9f3a"
             ],
             [
              0.8888888888888888,
              "#fdca26"
             ],
             [
              1,
              "#f0f921"
             ]
            ],
            "type": "heatmap"
           }
          ],
          "histogram": [
           {
            "marker": {
             "pattern": {
              "fillmode": "overlay",
              "size": 10,
              "solidity": 0.2
             }
            },
            "type": "histogram"
           }
          ],
          "histogram2d": [
           {
            "colorbar": {
             "outlinewidth": 0,
             "ticks": ""
            },
            "colorscale": [
             [
              0,
              "#0d0887"
             ],
             [
              0.1111111111111111,
              "#46039f"
             ],
             [
              0.2222222222222222,
              "#7201a8"
             ],
             [
              0.3333333333333333,
              "#9c179e"
             ],
             [
              0.4444444444444444,
              "#bd3786"
             ],
             [
              0.5555555555555556,
              "#d8576b"
             ],
             [
              0.6666666666666666,
              "#ed7953"
             ],
             [
              0.7777777777777778,
              "#fb9f3a"
             ],
             [
              0.8888888888888888,
              "#fdca26"
             ],
             [
              1,
              "#f0f921"
             ]
            ],
            "type": "histogram2d"
           }
          ],
          "histogram2dcontour": [
           {
            "colorbar": {
             "outlinewidth": 0,
             "ticks": ""
            },
            "colorscale": [
             [
              0,
              "#0d0887"
             ],
             [
              0.1111111111111111,
              "#46039f"
             ],
             [
              0.2222222222222222,
              "#7201a8"
             ],
             [
              0.3333333333333333,
              "#9c179e"
             ],
             [
              0.4444444444444444,
              "#bd3786"
             ],
             [
              0.5555555555555556,
              "#d8576b"
             ],
             [
              0.6666666666666666,
              "#ed7953"
             ],
             [
              0.7777777777777778,
              "#fb9f3a"
             ],
             [
              0.8888888888888888,
              "#fdca26"
             ],
             [
              1,
              "#f0f921"
             ]
            ],
            "type": "histogram2dcontour"
           }
          ],
          "mesh3d": [
           {
            "colorbar": {
             "outlinewidth": 0,
             "ticks": ""
            },
            "type": "mesh3d"
           }
          ],
          "parcoords": [
           {
            "line": {
             "colorbar": {
              "outlinewidth": 0,
              "ticks": ""
             }
            },
            "type": "parcoords"
           }
          ],
          "pie": [
           {
            "automargin": true,
            "type": "pie"
           }
          ],
          "scatter": [
           {
            "fillpattern": {
             "fillmode": "overlay",
             "size": 10,
             "solidity": 0.2
            },
            "type": "scatter"
           }
          ],
          "scatter3d": [
           {
            "line": {
             "colorbar": {
              "outlinewidth": 0,
              "ticks": ""
             }
            },
            "marker": {
             "colorbar": {
              "outlinewidth": 0,
              "ticks": ""
             }
            },
            "type": "scatter3d"
           }
          ],
          "scattercarpet": [
           {
            "marker": {
             "colorbar": {
              "outlinewidth": 0,
              "ticks": ""
             }
            },
            "type": "scattercarpet"
           }
          ],
          "scattergeo": [
           {
            "marker": {
             "colorbar": {
              "outlinewidth": 0,
              "ticks": ""
             }
            },
            "type": "scattergeo"
           }
          ],
          "scattergl": [
           {
            "marker": {
             "colorbar": {
              "outlinewidth": 0,
              "ticks": ""
             }
            },
            "type": "scattergl"
           }
          ],
          "scattermap": [
           {
            "marker": {
             "colorbar": {
              "outlinewidth": 0,
              "ticks": ""
             }
            },
            "type": "scattermap"
           }
          ],
          "scattermapbox": [
           {
            "marker": {
             "colorbar": {
              "outlinewidth": 0,
              "ticks": ""
             }
            },
            "type": "scattermapbox"
           }
          ],
          "scatterpolar": [
           {
            "marker": {
             "colorbar": {
              "outlinewidth": 0,
              "ticks": ""
             }
            },
            "type": "scatterpolar"
           }
          ],
          "scatterpolargl": [
           {
            "marker": {
             "colorbar": {
              "outlinewidth": 0,
              "ticks": ""
             }
            },
            "type": "scatterpolargl"
           }
          ],
          "scatterternary": [
           {
            "marker": {
             "colorbar": {
              "outlinewidth": 0,
              "ticks": ""
             }
            },
            "type": "scatterternary"
           }
          ],
          "surface": [
           {
            "colorbar": {
             "outlinewidth": 0,
             "ticks": ""
            },
            "colorscale": [
             [
              0,
              "#0d0887"
             ],
             [
              0.1111111111111111,
              "#46039f"
             ],
             [
              0.2222222222222222,
              "#7201a8"
             ],
             [
              0.3333333333333333,
              "#9c179e"
             ],
             [
              0.4444444444444444,
              "#bd3786"
             ],
             [
              0.5555555555555556,
              "#d8576b"
             ],
             [
              0.6666666666666666,
              "#ed7953"
             ],
             [
              0.7777777777777778,
              "#fb9f3a"
             ],
             [
              0.8888888888888888,
              "#fdca26"
             ],
             [
              1,
              "#f0f921"
             ]
            ],
            "type": "surface"
           }
          ],
          "table": [
           {
            "cells": {
             "fill": {
              "color": "#EBF0F8"
             },
             "line": {
              "color": "white"
             }
            },
            "header": {
             "fill": {
              "color": "#C8D4E3"
             },
             "line": {
              "color": "white"
             }
            },
            "type": "table"
           }
          ]
         },
         "layout": {
          "annotationdefaults": {
           "arrowcolor": "#2a3f5f",
           "arrowhead": 0,
           "arrowwidth": 1
          },
          "autotypenumbers": "strict",
          "coloraxis": {
           "colorbar": {
            "outlinewidth": 0,
            "ticks": ""
           }
          },
          "colorscale": {
           "diverging": [
            [
             0,
             "#8e0152"
            ],
            [
             0.1,
             "#c51b7d"
            ],
            [
             0.2,
             "#de77ae"
            ],
            [
             0.3,
             "#f1b6da"
            ],
            [
             0.4,
             "#fde0ef"
            ],
            [
             0.5,
             "#f7f7f7"
            ],
            [
             0.6,
             "#e6f5d0"
            ],
            [
             0.7,
             "#b8e186"
            ],
            [
             0.8,
             "#7fbc41"
            ],
            [
             0.9,
             "#4d9221"
            ],
            [
             1,
             "#276419"
            ]
           ],
           "sequential": [
            [
             0,
             "#0d0887"
            ],
            [
             0.1111111111111111,
             "#46039f"
            ],
            [
             0.2222222222222222,
             "#7201a8"
            ],
            [
             0.3333333333333333,
             "#9c179e"
            ],
            [
             0.4444444444444444,
             "#bd3786"
            ],
            [
             0.5555555555555556,
             "#d8576b"
            ],
            [
             0.6666666666666666,
             "#ed7953"
            ],
            [
             0.7777777777777778,
             "#fb9f3a"
            ],
            [
             0.8888888888888888,
             "#fdca26"
            ],
            [
             1,
             "#f0f921"
            ]
           ],
           "sequentialminus": [
            [
             0,
             "#0d0887"
            ],
            [
             0.1111111111111111,
             "#46039f"
            ],
            [
             0.2222222222222222,
             "#7201a8"
            ],
            [
             0.3333333333333333,
             "#9c179e"
            ],
            [
             0.4444444444444444,
             "#bd3786"
            ],
            [
             0.5555555555555556,
             "#d8576b"
            ],
            [
             0.6666666666666666,
             "#ed7953"
            ],
            [
             0.7777777777777778,
             "#fb9f3a"
            ],
            [
             0.8888888888888888,
             "#fdca26"
            ],
            [
             1,
             "#f0f921"
            ]
           ]
          },
          "colorway": [
           "#636efa",
           "#EF553B",
           "#00cc96",
           "#ab63fa",
           "#FFA15A",
           "#19d3f3",
           "#FF6692",
           "#B6E880",
           "#FF97FF",
           "#FECB52"
          ],
          "font": {
           "color": "#2a3f5f"
          },
          "geo": {
           "bgcolor": "white",
           "lakecolor": "white",
           "landcolor": "#E5ECF6",
           "showlakes": true,
           "showland": true,
           "subunitcolor": "white"
          },
          "hoverlabel": {
           "align": "left"
          },
          "hovermode": "closest",
          "mapbox": {
           "style": "light"
          },
          "paper_bgcolor": "white",
          "plot_bgcolor": "#E5ECF6",
          "polar": {
           "angularaxis": {
            "gridcolor": "white",
            "linecolor": "white",
            "ticks": ""
           },
           "bgcolor": "#E5ECF6",
           "radialaxis": {
            "gridcolor": "white",
            "linecolor": "white",
            "ticks": ""
           }
          },
          "scene": {
           "xaxis": {
            "backgroundcolor": "#E5ECF6",
            "gridcolor": "white",
            "gridwidth": 2,
            "linecolor": "white",
            "showbackground": true,
            "ticks": "",
            "zerolinecolor": "white"
           },
           "yaxis": {
            "backgroundcolor": "#E5ECF6",
            "gridcolor": "white",
            "gridwidth": 2,
            "linecolor": "white",
            "showbackground": true,
            "ticks": "",
            "zerolinecolor": "white"
           },
           "zaxis": {
            "backgroundcolor": "#E5ECF6",
            "gridcolor": "white",
            "gridwidth": 2,
            "linecolor": "white",
            "showbackground": true,
            "ticks": "",
            "zerolinecolor": "white"
           }
          },
          "shapedefaults": {
           "line": {
            "color": "#2a3f5f"
           }
          },
          "ternary": {
           "aaxis": {
            "gridcolor": "white",
            "linecolor": "white",
            "ticks": ""
           },
           "baxis": {
            "gridcolor": "white",
            "linecolor": "white",
            "ticks": ""
           },
           "bgcolor": "#E5ECF6",
           "caxis": {
            "gridcolor": "white",
            "linecolor": "white",
            "ticks": ""
           }
          },
          "title": {
           "x": 0.05
          },
          "xaxis": {
           "automargin": true,
           "gridcolor": "white",
           "linecolor": "white",
           "ticks": "",
           "title": {
            "standoff": 15
           },
           "zerolinecolor": "white",
           "zerolinewidth": 2
          },
          "yaxis": {
           "automargin": true,
           "gridcolor": "white",
           "linecolor": "white",
           "ticks": "",
           "title": {
            "standoff": 15
           },
           "zerolinecolor": "white",
           "zerolinewidth": 2
          }
         }
        },
        "title": {
         "text": "Visualização de Embeddings em 3D (PCA + Plotly)"
        },
        "width": 700
       }
      }
     },
     "metadata": {},
     "output_type": "display_data"
    }
   ],
   "source": [
    "# ---- Criar DataFrame com Plotly ----\n",
    "import pandas as pd\n",
    "df = pd.DataFrame({\n",
    "    \"PC1\": embeddings_pca[:, 0],\n",
    "    \"PC2\": embeddings_pca[:, 1],\n",
    "    \"PC3\": embeddings_pca[:, 2],\n",
    "    \"id\": chunk_ids\n",
    "})\n",
    "\n",
    "# ---- Visualização 3D interativa ----\n",
    "fig = px.scatter_3d(\n",
    "    df, x=\"PC1\", y=\"PC2\", z=\"PC3\",\n",
    "    text=\"id\",  # aparece ao passar o mouse\n",
    "    opacity=0.7,\n",
    "    title=\"Visualização de Embeddings em 3D (PCA + Plotly)\"\n",
    ")\n",
    "\n",
    "fig.update_traces(marker=dict(size=4))\n",
    "fig.update_layout(\n",
    "    width=700,\n",
    "    height=700,\n",
    "    scene=dict(\n",
    "        aspectmode=\"cube\"  # força proporção 1:1:1 entre x, y, z\n",
    "    )\n",
    ")\n",
    "fig.show()"
   ]
  },
  {
   "cell_type": "code",
   "execution_count": 8,
   "id": "5911beea",
   "metadata": {},
   "outputs": [
    {
     "data": {
      "text/plain": [
       "['Advanced Knowledge Base: Interpreting EI Mass Spectra of Steroids and Organic Compounds Introduction Electron Ionization (EI) mass spectrometry produces a complex \"fingerprint\" spectrum for organic molecules, rich in fragment ions. Interpreting these spectra requires understanding the m/z values (mass-to-charge, typically equal to molecular mass for singly-charged ions), identifying the molecular ion and base peak, and analyzing relative intensities of fragment ions. In this guide, we focus on E',\n",
       " 'ies of fragment ions. In this guide, we focus on EI spectra of steroids (e.g. cholesterol, testosterone, progesterone) as representative complex organic compounds. We will outline common fragmentation pathways and characteristic ions, explain structural features influencing fragmentation, and present step-by-step strategies for elucidating structures from spectra. Several worked examples of steroid mass spectra are provided with annotated fragments and reasoning. Finally, we offer guidelines for',\n",
       " 'ts and reasoning. Finally, we offer guidelines for distinguishing similar steroid structures by subtle spectral differences. All key points are supported by literature or database references, including real spectra (NIST, MassBank, etc.) where possible. Basics of EI Mass Spectral Interpretation Molecular Ion (M⁺·): The peak corresponding to the intact molecule (radical cation) provides the molecular weight. It often appears at the highest m/z. Its presence and intensity vary: some compounds show',\n",
       " 's presence and intensity vary: some compounds show a strong M⁺·, others fragment extensively so M⁺· is weak or absent proteomicsresource.washington.edu fda.gov . For example, cholesterol (MW 386) shows an M⁺· at m/z 386 researchgate.net , while many large steroids have only a small M⁺· peak. The nitrogen rule can help infer formula: an odd-mass M⁺· suggests an odd number of N atoms (even mass indicates zero or even N) mazams.weebly.com (most steroids have no nitrogen, so an even-mass M⁺· is expe',\n",
       " \"oids have no nitrogen, so an even-mass M⁺· is expected). Base Peak: The most intense peak (100% relative intensity) is called the base peak. It represents the most abundant (and often most stable) fragment ion. All other peaks' intensities are scaled relative to it spectroscopyonline.com . For instance, in many Δ^4-3-keto steroids (those sharing the A-ring structure of testosterone), the base peak is at m/z 124 fda.gov – a fragment ion formed by cleavage of rings B/C (discussed in detail later).\",\n",
       " \"cleavage of rings B/C (discussed in detail later). The base peak provides a key clue to a molecule's most favorable fragmentation pathway or stable cation. Isotopic Peaks and Patterns: Peaks at M+1, M+2, etc., arise from natural isotopes (^13C, ^2H, ^18O, etc.) in the molecular ion. Their relative intensities can confirm the molecule's formula. For example, a steroid with ~27 carbons (like cholesterol) will show an M+1 ~11% of M (since ^13C is ~1.1% per C) researchgate.net . Presence of Cl or Br\",\n",
       " \".1% per C) researchgate.net . Presence of Cl or Br would give distinct M and M+2 patterns (not typical in natural steroids, but important generally). In EI, only cations are detected, so all significant peaks represent positively charged fragments (radical cations or protonated neutrals in some cases). Relative Intensities and Stability: The pattern of fragment intensities reflects each ion's stability and the probability of its formation. Stable carbocation fragments (allylic, benzylic, tertiar\",\n",
       " ' carbocation fragments (allylic, benzylic, tertiary cations, etc.) often appear as intense peaks because those cations form readily and persist web.mnstate.edu . For example, a benzyl-containing compound often shows an intense m/z 91 (tropylium cation) base peak web.mnstate.edu . In steroids, certain conjugated cations (like the m/z 124 ion mentioned) are particularly stabilized, hence dominate the spectrum fda.gov . Less stable fragments still appear but at lower intensity. By analyzing which p',\n",
       " 'ppear but at lower intensity. By analyzing which peaks are strongest, one deduces which parts of the molecule form the most stabilized ions. Fragment Clusters and Spacing: EI spectra typically contain clusters of peaks, often spaced by 14 amu, corresponding to loss or presence of -CH$_2$- units chem.libretexts.org . This is common in spectra of compounds with alkyl chains or repeating CH$_2$ segments (like steroid side-chains). A series of peaks 14 daltons apart indicates successive cleavage alo',\n",
       " \"14 daltons apart indicates successive cleavage along a carbon chain fda.gov chem.libretexts.org . For example, a steroid's side chain may break in stages, producing ions at m/z values decreasing by 14 (loss of –CH$_2$– each time). Recognition of such patterns (e.g. 86, 100, 114… or 55, 69, 83… series) can signal a long aliphatic chain present in the structure fda.gov . Common EI Fragmentation Pathways When an EI high-energy electron strikes a molecule, it knocks out an electron, yielding an exci\",\n",
       " 'ecule, it knocks out an electron, yielding an excited radical cation (M⁺·). This can undergo various fragmentation pathways before reaching a stable ionic form. Key fragmentation mechanisms include: simple bond cleavages, α-cleavage next to functional groups, rearrangements, and loss of small neutrals. Below we outline these pathways, with emphasis on those relevant to steroids and similar organics:\\n\\n\\n\\n\\n\\nSimple Bond Cleavage (β-cleavage) A single σ-bond breaks heterolytically, yielding a pair: a',\n",
       " ' σ-bond breaks heterolytically, yielding a pair: a neutral radical and a cation (either fragment can be the cation, depending on which side retains the positive charge). The favored cleavages are those that yield more stable cations: tertiary carbocations, allylic or benzylic cations, or resonance-stabilized ions web.mnstate.edu . For example, cleavage of a methyl group (–CH$_3$) from a radical cation (M⁺·) is common, giving an [M–15]⁺ fragment. In steroids, loss of a 18- or 19-methyl (angular m',\n",
       " 'In steroids, loss of a 18- or 19-methyl (angular methyl group) can produce an [M–15]⁺ peak. Indeed, testosterone (C_19 steroid) shows a small ion at m/z 273 corresponding to M–15 (288–15) from loss of a methyl gajrc.com . Similarly, cleavage of an ethyl side chain yields [M–29]⁺, etc. These peaks help identify alkyl substituents.\\n\\n\\n\\nα-Cleavage Next to Functional Groups When a radical cation has a heteroatom or unsaturated functional group, breaking the bond adjacent (α) to that group often yield',\n",
       " 'ng the bond adjacent (α) to that group often yields a resonance-stabilized cation. For carbonyl compounds, α-cleavage is prominent: the bond between the carbonyl carbon and the adjacent carbon breaks, yielding an acylium ion. In steroids with a 3-ketone (e.g. Δ^4-3-one structure), α-cleavage can occur at the bond between C3–C4 or C2–C3. One important result is elimination of a neutral fragment COCH$_2$ (42 Da, i.e. –CH$_2$CO– removal) from the A-ring fda.gov . This produces a fragment at [M–42]^',\n",
       " 'ring fda.gov . This produces a fragment at [M–42]^+, which is observed in 3-ketosteroids: e.g. testosterone (M 288) has m/z 246 (288–42) gajrc.com and progesterone (M 314) shows m/z 272 (314–42) as a prominent ion (second-largest peak) fda.gov fda.gov . The [M–42]^+ fragmentation is a diagnostic indicator of the Δ^4-3-one structure in ring A fda.gov . For a carbon-carbon double bond, breaking an adjacent bond can yield allylic cations. For example, cholesterol (which has a C5=C6 double bond) can',\n",
       " 'e, cholesterol (which has a C5=C6 double bond) can undergo cleavage yielding an allylic cation fragment (one notable fragment of cholesterol is at m/z 271 in some spectra, representing cleavage of the side chain forming a cholestadiene cation, though the most intense cholesterol ions come from other routes). In general, any functional group that can stabilize a charge (aromatic rings, heteroatoms, etc.) will direct α-cleavages. An –OH group induces α-cleavage to yield oxonium ions; however, in s',\n",
       " 'es α-cleavage to yield oxonium ions; however, in steroids, –OH often instead triggers water loss (see below) more so than simple α-cleavage.\\n\\n\\n\\nRearrangement Reactions (McLafferty and Others) Rearrangements involve simultaneous bond breakage and atom migration, leading to even-electron fragment ions. The classic example is the McLafferty rearrangement: a molecule with a carbonyl and a gamma-hydrogen (on a carbon at least 3 atoms away) can undergo a cyclic six-membered transition state transfer o',\n",
       " ' a cyclic six-membered transition state transfer of that H to the carbonyl oxygen, cleaving the bond between the α and β carbons. This yields an enol cation and a neutral alkene. In steroids, the McLafferty rearrangement is implicated in forming the m/z 124 ion (see below) from Δ^4-3-keto steroids gajrc.com gajrc.com . Specifically, for testosterone (and analogs), deuterium labeling proved that a hydrogen migrates from C8 to C10 (a McLafferty-type 1,3 H-shift) during fragmentation, contributing ',\n",
       " 'e 1,3 H-shift) during fragmentation, contributing to the formation of the resonant C9-C10 cleavage fragment at m/z 124 gajrc.com gajrc.com . Rearrangement is also responsible for common neutral losses like H_2O (see below) and small olefins. Another rearrangement common in steroid side-chains is the loss of water (if an –OH is present) via a cyclic elimination. For instance, cholesterol (3β-OH) readily loses H_2O to form an olefinic cation; its base peak at m/z 368 corresponds to [M–H_2O]^+ rese',\n",
       " 'ase peak at m/z 368 corresponds to [M–H_2O]^+ researchgate.net . Likewise, 17β-hydroxy steroids (e.g. testosterone, estradiol) show a prominent [M–18]^+ from dehydration gajrc.com . Rearrangement eliminations often lead to even-electron cations, which can be quite stable (hence intense in the spectrum).\\n\\n\\n\\nLoss of Small Neutrals (H₂O, NH₃, CO, etc.) Small neutral losses are a subset of the above mechanisms but worth noting separately. Water loss (–18) is characteristic for molecules with –OH gro',\n",
       " '(–18) is characteristic for molecules with –OH groups. A peak at M–18 strongly suggests a hydroxyl functionality. In steroid spectra: testosterone (17β-OH) has an m/z 270 peak (M–18) gajrc.com ; cholesterol (3β-OH) gives m/z 368 (M–18) as a dominant fragment researchgate.net ; estradiol (3,17-diol) similarly would show M–18 and even M–2×18 if both hydroxyls eliminate. The intensity of [M–H₂O]^+ can hint at the position/orientation of the OH. For example, axial (17α)–OH tends to eliminate water m',\n",
       " \"example, axial (17α)–OH tends to eliminate water more readily than equatorial (17β)–OH russchemrev.org . (Epi-testosterone, 17α-OH, has a stronger M–18 signal than testosterone's 17β-OH under EI, as observed in comparative spectra russchemrev.org .) Other neutrals: CO (–28) loss often accompanies fragmentation of ketones (after α-cleavage, the acylium ion can further lose CO). In steroids, secondary fragments like [M–42]^+ might further lose CO (–28) to yield [M–70]^+. Carbon dioxide (–44) can b\",\n",
       " '–28) to yield [M–70]^+. Carbon dioxide (–44) can be lost if a carboxylic group is present (not typical in steroids, but relevant in other organics). Methane (–16) or ethylene (–28) losses are less common initial steps, but can occur via multiple-step fragmentations. Finally, multiple-step fragments appear as lower m/z ions that result from sequential losses. For example, a steroid with both a ketone and an –OH might show M–18 and M–18–42 peaks, etc. High-resolution or MS/MS experiments (beyond s',\n",
       " 'tc. High-resolution or MS/MS experiments (beyond scope here) can connect which fragments derive from which precursors link.springer.com , but even in a basic EI spectrum, seeing logical combinations of losses (e.g. M–15, M–18, M–33 (15+18), M–42, M–60 (42+18), etc.) helps confirm which functional groups are present and fragmenting. Characteristic Fragment Ions in Steroids Steroid molecules share a tetracyclic carbon skeleton, and their EI spectra show some common fragment ions corresponding to s',\n",
       " ' show some common fragment ions corresponding to specific ring cleavages or substituent losses. Here we highlight the most characteristic ions and pathways for steroids (with emphasis on cholesterol, androgens, and progestins): A-Ring Cleavage Ion (m/z 124): This ion is a hallmark of Δ^4-3-keto steroids (e.g. testosterone, progesterone, androstenedione). In compounds that have the same A/B-ring structure as testosterone (a 3-oxo-Δ^4 in ring A and an intact B-ring), the EI spectrum invariably sho',\n",
       " ' an intact B-ring), the EI spectrum invariably shows an intense ion at m/z 124 fda.gov . In fact, m/z 124 is often the base peak for such steroids fda.gov . Mechanistically, this ion results from cleavage across rings B and C: specifically, bond breakage between C9 and C10 (the juncture of rings B and C) with concurrent H-transfer (a Djerassi-described pathway) leads to a cation containing rings A and B (with conjugated double bonds) of formula C_9H_12O^+ (calculated 124) gajrc.com gajrc.com . T',\n",
       " \"_9H_12O^+ (calculated 124) gajrc.com gajrc.com . This fragment is resonance-stabilized (it can be viewed as a benzene-like tropylium ion substituted with an oxygen function, or a cyclic dienyloxonium), hence its prominence. If a steroid's EI spectrum lacks a strong 124 ion, it often means the A/B ring system is modified fda.gov (for instance, 5α-saturated A/B rings or aromatic A-ring steroids do not produce 124). A practical example: Testosterone's spectrum has base peak 124, while dihydrotestos\",\n",
       " \"'s spectrum has base peak 124, while dihydrotestosterone (which is 5α-saturated, no Δ^4) does not show 124 as base peak, reflecting the structural difference. Variant A-Ring Ion (m/z 122): If the steroid's A-ring has an extra double bond (e.g. a 1,4-diene-3-one system, as in boldenone or other 1-dehydro analogs), the corresponding fragment appears at m/z 122 instead fda.gov . This 2 amu lower mass is due to the loss of two hydrogens (the additional unsaturation) in that fragment. A very intense \",\n",
       " 'al unsaturation) in that fragment. A very intense m/z 122 (often base peak) is thus diagnostic of a 3-keto-1,4-diene or 3-keto-1-ene structure fda.gov . For example, boldenone (Δ^1-testosterone) and methandrostenolone (1-dehydro-17α-methyltestosterone) show m/z 122 base peaks in EI fda.gov . Side-Chain Cleavage (D/E ring cleavage): Sterols like cholesterol (which have a bulky alkyl side chain at C17) often undergo cleavage of that side chain. One common break is between C17 and C20, effectively ',\n",
       " \" common break is between C17 and C20, effectively cutting off the side chain. This yields a fragment corresponding to the sterol nucleus (rings A–D) as a cation. For cholesterol (C_27H_46O), losing its C8H17 side chain (113 Da) would give an ion around m/z 273. In practice, cholesterol's EI spectrum does show significant ions in the high 200s; e.g. m/z 275 and 273 are noted in some sources science.org . These may result from side-chain cleavage combined with H-transfers. Another pathway in 17-si\",\n",
       " \"ombined with H-transfers. Another pathway in 17-side-chain steroids is retro-Diels–Alder (RDA) cleavage across rings D/E: scission of bonds in ring D can expel the side chain as a neutral olefin, leaving behind a cationic polycyclic fragment. The exact masses vary with each steroid's side chain, but the presence of strong ions in the range m/z 240–280 can indicate side-chain losses. For progesterone (which has a 2-carbon 17-side-chain ending in a 20-ketone), the loss of the side chain (C₂H₄O, 44\",\n",
       " \" 20-ketone), the loss of the side chain (C₂H₄O, 44 Da) produces m/z 270 (which in progesterone's spectrum is indeed observed) fda.gov . In general, a 17-keto steroid (no side chain beyond C17, e.g. androstenedione) tends to lose 44 (CH$_2$=CH–OH or CH$_2$CHOH) from the D-ring, whereas a 17β-hydroxyl steroid loses 18 (water) as discussed fda.gov . These differences are useful in identifying whether a steroid has a side chain or just a 17-keto function. Water Loss (m/z = M–18): As mentioned, stero\",\n",
       " \"tion. Water Loss (m/z = M–18): As mentioned, steroids with –OH groups show prominent dehydration. Cholesterol's base peak at 368 = [M–H₂O]^+ researchgate.net ; testosterone's 270 = [M–H₂O]^+ gajrc.com ; estradiol's M 272 yields [M–18] = 254. If multiple –OH groups are present, sequential losses can occur (though second losses are usually less intense). The intensity of the M–18 peak can be a clue to the –OH position or stereochemistry: e.g. 17α-OH steroids give more intense [M–18]^+ than 17β-OH \",\n",
       " 'H steroids give more intense [M–18]^+ than 17β-OH steroids under EI russchemrev.org . This provides a means of distinguishing epimers (see later section). Other Common Ions (m/z ~ 95–110 region): Steroid spectra often contain ions around m/z 97, 109, 110, etc. These result from cleavage of the D-ring or side chain combined with portions of ring C. For example, m/z 109 (C_8H_13^+) is frequently observed fda.gov – it can derive from cleavage that yields a tropylium-like cation from part of the ste',\n",
       " \"ields a tropylium-like cation from part of the steroid skeleton. In testosterone and related C19 steroids, m/z 109 and 96–97 are notable fragment ions patents.google.com (the patent literature for testosterone detection chose m/z 109 and 97 as quantification ions patents.google.com , reflecting their stability). Cholesterol's spectrum similarly shows abundant ions at m/z 107, 95, 81, etc., which correspond to smaller hydrocarbon fragments from the side chain and rings massbank.eu massbank.eu . T\",\n",
       " 'e side chain and rings massbank.eu massbank.eu . These ions are not unique to steroids but indicate branched alkyl fragments and can support identification of certain substructures (e.g. m/z 91 indicates an aromatic benzyl fragment, rarely relevant in natural steroids except in aromatic ring A of estrogens). High-Mass Oxidized Fragments: In specialized cases (e.g. under lower EI energy or with chemical ionization), molecular adducts or oxidized ions can appear (like cholesterol M–H with a hydrog',\n",
       " 'ons can appear (like cholesterol M–H with a hydrogen abstraction). In a standard 70 eV EI spectrum, these are minimal. However, in analysis of steroid mixtures, one might see peaks corresponding to cholesterol oxidation products (e.g. m/z 384 or 402 for cholesterol oxide derivatives) researchgate.net researchgate.net , but these are beyond the pure EI fragmentation of the parent steroid and more about derivatization or in-source oxidation. The table below summarizes key fragment ions and their i',\n",
       " 'ble below summarizes key fragment ions and their interpretation in steroid EI spectra: Fragment Ion (m/z) Possible Structure / Origin Significance M⁺· (Molecular ion) Intact steroid (radical cation) Molecular weight (e.g. 386 for cholesterol) researchgate.net . Often weak or absent if molecule fragments readily proteomicsresource.washington.edu . M–15 Loss of •CH$_3$ (methyl radical) Indicates a methyl substituent (e.g. angular 18- or 19-methyl). Seen as small peak at 273 in testosterone gajrc.c',\n",
       " ' Seen as small peak at 273 in testosterone gajrc.com , 299 in progesterone. M–18 Loss of H$_2$O (if –OH present) Confirms presence of –OH (common at 17 or 3). E.g. base peak 368 in cholesterol researchgate.net , strong 270 in testosterone gajrc.com . More intense if –OH is axial russchemrev.org . M–42 Loss of CH$_2$CO (42 Da) via α-cleavage at 3-ketone Characteristic of 3-oxo-Δ^4 steroids fda.gov . Yields m/z 246 in testosterone gajrc.com , 272 in progesterone (second highest) fda.gov . Indicate',\n",
       " 'n progesterone (second highest) fda.gov . Indicates Δ^4-3-one in A-ring. m/z 124 C$9$H${12}$O⁺ fragment (A/B rings cation) Base peak in Δ^4-3-one steroids (testosterone, progesterone) fda.gov . Formed by C9–C10 bond cleavage with H shift (McLafferty) gajrc.com . Its absence suggests altered A/B ring (e.g. saturated A-ring or aromatic A-ring) fda.gov . m/z 122 Analogous A/B ring fragment in 1,4-diene steroids Base peak in 3-keto-1,4-diene or -1-ene steroids fda.gov (e.g. boldenone). Indicates ext',\n",
       " 'e steroids fda.gov (e.g. boldenone). Indicates extra unsaturation in ring A. m/z 109, 107 (ca. 108) C$8$H${13}^+$ / C$8$H${11}^+$ fragments Common small fragments from rings C/D cleavage or side-chain. Appear in many steroid spectra massbank.eu patents.google.com . Helpful but not unique (general hydrocarbon fragments). m/z 95, 97 C$7$H${11}^+$ / C$7$H${13}^+$ fragments Similar to above – often observed in alkyl chains (rearranged cyclohexenyl cations, etc.). Prominent in cholesterol (m/z 95 ~68',\n",
       " 'tions, etc.). Prominent in cholesterol (m/z 95 ~68% intensity) massbank.eu and androgen spectra (m/z 97) patents.google.com . m/z 218–220 region Fragment of sterol nucleus after side-chain loss E.g. cholesterol gives ions near 273, 255. Progesterone (no side chain) gives 272 (M–42) and also ~ (M–44=270). Patterns in this range can indicate side-chain cleavage.\\n\\n(The above are general guidelines; individual spectra may have additional unique peaks, but these represent the most diagnostically usef',\n",
       " ', but these represent the most diagnostically useful ions.) Step-by-Step Strategy for EI Spectrum Elucidation Interpreting a complex EI spectrum can be approached systematically. Below is a step-by-step strategy, applied especially to steroid spectra: Step 1: Identify the Molecular Ion (M⁺·) – Look at the highest m/z values in the spectrum. If a peak stands out near the expected molecular weight (based on formula or known MW), that is likely M⁺·. Confirm by isotopic pattern: e.g. a C_19H_28O_2 s',\n",
       " \" Confirm by isotopic pattern: e.g. a C_19H_28O_2 steroid (like testosterone, MW 288) should have a small M+1 (15–20% of M due to ^13C) and negligible M+2 (since only O contributes minor ^18O) researchgate.net . In testosterone's spectrum, m/z 288 is the molecular ion (about 5–10% intensity) gajrc.com . If M⁺· is absent or extremely weak, the molecule might fragment completely (common for very large or unstable molecules). In such cases, consider a softer ionization method (CI, etc.) or derivatiz\",\n",
       " \"a softer ionization method (CI, etc.) or derivatization to observe M, but for interpretation purposes use the nominal MW from known formula. Step 2: Note Obvious Isotope/Element Clues – Check if there are unusual isotope patterns indicating elements like Cl or Br: e.g. Br gives M and M+2 of equal height, Cl gives M+2 1/3 of M. Natural steroids (cholesterol, hormones) lack these halogens, so typically you won't see that. However, synthetic steroid derivatives sometimes have Si (from TMS derivatiz\",\n",
       " ' derivatives sometimes have Si (from TMS derivatization) or halogen substituents; their spectra would reflect those (e.g. TMS group yields intense m/z 73, and isotopic Si pattern). If the sample was derivatized (common in GC–MS of steroids as TMS ethers), remember the spectrum reflects the derivative (with a different M and fragments). For this discussion, we assume underivatized spectra. Also apply the nitrogen rule: if you somehow see an odd-mass base peak that looks like an M⁺·, question if a',\n",
       " 'ss base peak that looks like an M⁺·, question if an odd number of nitrogens is present. Again, most steroids have 0 N (even mass M⁺·). Step 3: Identify the Base Peak and Major Peaks – Determine m/z of the base peak (100% intensity) and other major peaks (say >20% intensity). These are the key to deducing stable fragments. Ask which structural unit could produce each major ion: If the base peak is 124 or 122, immediately suspect a steroid-like A-ring (Δ^4-3-one or Δ^1,4-3-one). For example, if an',\n",
       " 'ing (Δ^4-3-one or Δ^1,4-3-one). For example, if analyzing an unknown that produces m/z 124 base, one might deduce \"this unknown likely has the same structural motif as testosterone in rings A/B\" fda.gov . If a strong peak at M–18 appears, a labile –OH is present (e.g. 17-OH in steroids). If instead a strong M–44 appears, a 17-keto structure is likely (elimination of C16–C17 as 44 Da fragment is typical for 17-ketones) fda.gov . Look for M–15, M–28, M–42 peaks and see if they match known fragment',\n",
       " '8, M–42 peaks and see if they match known fragment patterns: M–15 (loss of CH$_3$) might come from an alkyl substituent – e.g. 19-nor steroids (lacking the 19-methyl) often have a much weaker M–15 than steroids with a 19-methyl. M–28 (loss of C₂H₄ or CO) could indicate either an ethylene elimination or CO loss from an acylium ion – context with other peaks will clarify. M–42 we already associate with the A-ring cleavage (3-keto). If you see ~M–42 and ~M–18 both, that strongly corroborates a 3-ke',\n",
       " ' and ~M–18 both, that strongly corroborates a 3-keto and a hydroxyl in the molecule. For instance, an unknown giving M⁺· 302, base 122, and a peak at 260 (302–42) plus 284 (302–18) would scream \"1,4-diene-3-one steroid with a hydroxyl\" (likely boldenone, C_19H_26O_2, MW 286, or similar). Observe clusters of peaks: Are there series spaced by 14 u? If yes, an alkyl chain fragmentation is happening fda.gov chem.libretexts.org . For example, cholesterol\\'s spectrum shows numerous peaks from m/z ~55 u',\n",
       " \"rol's spectrum shows numerous peaks from m/z ~55 up to 95 spaced by 14, reflecting stepwise cleavage of its side chain and alkyl substituents massbank.eu massbank.eu . Such patterns suggest a long aliphatic portion in the structure. Step 4: Assign Fragments by Difference Analysis – Take each major peak and subtract its m/z from the molecular ion m/z to see what neutral loss that corresponds to: A 15 Da loss suggests a methyl group (common for steroids with many methyls). 18 Da loss suggests wate\",\n",
       " \"roids with many methyls). 18 Da loss suggests water (an –OH group present). 28 Da loss might suggest C₂H₄ (perhaps part of a side chain) or CO (from a carbonyl cleavage). 32 Da loss could hint at O$_2$ (unlikely here) or two oxygens in some combination. 42 Da loss we've linked to –CH$_2$CO (A-ring cleavage) fda.gov . 44 Da loss suggests loss of C_2H_4O – which in steroids often is the side chain of a 17-keto steroid (as CH$_3$COCH$_2$) or a combination of CO+H$_2$ (if multiple steps). 92 Da loss\",\n",
       " \"nation of CO+H$_2$ (if multiple steps). 92 Da loss might indicate a diphenyl or tropylium-related structure (not typical in steroids, but for general organics like a phenylpropyl fragment). In a steroid context, not common unless an aromatic A-ring splits off. By matching these differences to plausible neutral fragments, you build evidence for specific functional groups. For example, in testosterone's spectrum (C_19H_28O_2, M = 288): we see major peaks at 273, 270, 246, 124 gajrc.com . We interp\",\n",
       " ' peaks at 273, 270, 246, 124 gajrc.com . We interpret: 288 → 273 (–15): there is a methyl group (likely the 19-methyl) that can be lost gajrc.com . 288 → 270 (–18): confirms a hydroxyl (17β-OH) gajrc.com . 288 → 246 (–42): confirms the 3-oxo-Δ^4 structure gajrc.com . 124 is base: confirms the presence of that specific cyclic conjugated system (rings A/B intact as Δ^4-3-one) gajrc.com . Likewise for progesterone (C_21H_30O_2, M = 314): major peaks at 299, 272, 124. 314 → 299 (–15): loss of a meth',\n",
       " \" at 299, 272, 124. 314 → 299 (–15): loss of a methyl (progesterone has two methyls at C18, C19 and one at C21; likely one of these cleaved). 314 → 272 (–42): again the Δ^4-3-one A-ring cleavage fda.gov . 314 → 270 (–44): suggests elimination of the 17-side-chain (C₂H₄O). Progesterone's 17α-side-chain is –CH$_2$–CO–CH$_3$; losing it as a neutral (possibly via a McLafferty-type ring D cleavage) would be 44 Da, giving m/z 270, which is observed fda.gov . This indicates a 17-ketone functionality. 12\",\n",
       " 'gov . This indicates a 17-ketone functionality. 124 base peak: again confirms the common A/B structure. For cholesterol (C_27H_46O, M = 386): major peaks at 386, 368, 353, 301, 275, 255, 213, 147, etc. M⁺· 386 is present (40% relative) researchgate.net . 368 (–18) is base peak: clear evidence of an –OH (3β-hydroxyl) researchgate.net . 353 (–33) can be interpreted as sequential loss of water (18) and a methyl (15) – indeed cholesterol can lose H₂O and a CH₃ (perhaps from the side chain), aligning',\n",
       " ' and a CH₃ (perhaps from the side chain), aligning with an M–18–15 fragment link.springer.com . 301 and 275: these suggest larger chunk losses. 386–301 = 85 Da lost; 386–275 = 111 Da lost. 111 Da approximates the side chain (C_8H_15, 111) after a prior H shift, so m/z 275 likely corresponds to the sterol nucleus cation after side chain expulsion (C_19H_27O⁺). Literature confirms cholesterol EI yields fragments at m/z 275 and 276 (nucleus fragments) science.org . The 85 Da loss to give m/z 301 mi',\n",
       " \"s) science.org . The 85 Da loss to give m/z 301 might be loss of C_6H_{13} (perhaps part of the side chain) indicating a fragmentation partway through the side chain. 213 is another significant ion (386–173). 173 Da might correspond to cleavage that drops part of rings C/D plus side chain. Actually, cholesterol's m/z 213 can be rationalized by cleavage of the C17–C20 bond plus some rearrangements, yielding a fragment containing rings A and B and part of ring C. These detailed assignments can be \",\n",
       " 'part of ring C. These detailed assignments can be verified by high-resolution data, but the key takeaway is recognizing patterns like water loss and side-chain loss in the differences. Lower masses 147, 133, 125 etc., come from various cleavages of the polycyclic system and side chain. For example, m/z 147 in cholesterol could correspond to the fragment of ring D plus portion of side chain (a common cholesterol fragment is at 145–147). These can be assigned if needed, but the higher fragments us',\n",
       " \"be assigned if needed, but the higher fragments usually provide the clearest structural clues first. Step 5: Map Fragments to Structure – Use the deduced fragment origins to piece together the structure or confirm a proposed structure: Draw the steroid skeleton and mark where each major fragment could come from. For instance, on testosterone's four-ring structure, mark the cleavage between C9–C10 that yields m/z 124; mark the loss of the 17-OH as water; mark the loss of the 19-methyl. This visua\",\n",
       " \" water; mark the loss of the 19-methyl. This visual mapping ensures the fragments are logically consistent with one structure. If any major peak cannot be explained by a single cleavage or simple mechanism, consider a two-step or rearrangement process. (E.g., cholesterol's m/z 213 might not come from one bond break – it could be a secondary fragment after initial side-chain loss.) Verify that the sum of fragment pieces accounts for the whole molecule (mass balance). If you have identified fragme\",\n",
       " 'cule (mass balance). If you have identified fragments corresponding to certain rings or substituents, check that adding them up (along with plausible neutrals) recovers the molecular formula. If multiple isomers are possible, think about whether each would fragment similarly. Many structural isomers (especially position or stereo isomers in steroids) yield very similar EI spectra, with only subtle differences (next section). You may need to consider those subtle differences or use additional dat',\n",
       " \"der those subtle differences or use additional data to distinguish them. Step 6: Leverage Spectral Libraries or Literature – In practice, one often compares the unknown's spectrum to reference spectra (NIST library, etc.) for identification. For deep understanding, however, interpreting the fragmentation as above is invaluable. Cross-check your assignments with known spectra from reliable sources: e.g., NIST WebBook entries researchgate.net , MassBank records massbank.eu massbank.eu , or literat\",\n",
       " \"sBank records massbank.eu massbank.eu , or literature discussions gajrc.com gajrc.com . These can confirm if the peak you think is from, say, a side-chain loss indeed corresponds to that in known analogs. Following these steps for each example will build confidence. Let's apply the approach to two steroid examples in detail: Example 1: Testosterone (C_19H_28O_2, MW 288) Testosterone's 70 eV EI mass spectrum is well documented gajrc.com . The key peaks and their interpretation are: m/z 288 – Mole\",\n",
       " 'peaks and their interpretation are: m/z 288 – Molecular ion (observed at 5% intensity). Confirms MW consistent with C_19H_28O_2 gajrc.com (odd number of carbons, no nitrogen, even mass as expected). Small M⁺· intensity indicates the ion readily fragments. m/z 273 – [M–15]^+, loss of a methyl radical. Likely the 19-methyl or 18-methyl at C10 is cleaved. This fragment is minor (3% intensity) gajrc.com , indicating methyl loss is not the most favorable path (though it occurs). m/z 270 – [M–18]^+, l',\n",
       " \"ble path (though it occurs). m/z 270 – [M–18]^+, loss of water. This is significant (~10–15%). It shows testosterone has a hydroxyl that can eliminate H₂O gajrc.com . We know testosterone's only –OH is at C17; hence this confirms a 17β-OH. (In contrast, a 17-keto steroid would not show M–18, but instead a different fragment – see progesterone.) m/z 246 – [M–42]^+, loss of C_2H_2O (presumably CH$2$=CO). Intensity ~20%. This aligns with the α-cleavage of the A-ring (C2–C3 bond cleavage) in a Δ^4-3\",\n",
       " \"age of the A-ring (C2–C3 bond cleavage) in a Δ^4-3-one gajrc.com . It confirms the presence of the 3-keto-Δ^4 structure (removing the 2- and 3-carbon as neutral acetylene+oxygen). m/z 219 – a smaller fragment (not among the biggest, but noticeable) corresponding to loss of 69 Da. 69 might correspond to C_5H_9 (a piece of rings C/D perhaps). It could be from breaking the D-ring and part of side chain (though testosterone's side chain is just a hydroxyl). This is a less straightforward fragment, p\",\n",
       " \"roxyl). This is a less straightforward fragment, possibly arising after initial water loss. m/z 124 – Base peak (100%). This is the signature A/B ring fragment discussed earlier fda.gov . It represents a massive cleavage (breaking the molecule roughly in half), but yielding an extremely stable cation (conjugated cyclopentenyl cation with an oxygen). Its dominance (base peak) is the giveaway of testosterone's core structure fda.gov gajrc.com . EI mass spectrum of testosterone (C_19H_28O_2). Promi\",\n",
       " 'mass spectrum of testosterone (C_19H_28O_2). Prominent peaks: M⁺· at m/z 288 (≈5%), [M–H₂O]⁺ at 270, [M–CH₃]⁺ at 273, [M–42]⁺ at 246, and base peak at m/z 124 gajrc.com gajrc.com . Fragment 124 (blue highlight) is the A/B ring diplus ion characteristic of the 4-en-3-one structure. Peak 246 confirms the 3-ketone via loss of 42 (red), and 270 confirms the 17β-OH via loss of water (green). In the annotated spectrum above, we see how each key peak ties to the structure: m/z 288: whole molecule. m/z ',\n",
       " 'es to the structure: m/z 288: whole molecule. m/z 270: loss of H₂O from the 17-OH (green path). m/z 246: loss of C2H2O from ring A (red path). m/z 124: A/B rings fragment (blue structure). The remaining peaks (e.g. 109, 147) can also be rationalized. For instance, m/z 147 in this spectrum likely corresponds to the fragment containing rings C and D (perhaps C13H_15O^+), and m/z 109 could be a tropylium-like C_8H_13^+ from ring D cleavage. These finer points aside, the major peaks allowed us to co',\n",
       " \"ner points aside, the major peaks allowed us to confirm the known structure of testosterone readily. Example 2: Cholesterol (C_27H_46O, MW 386) Cholesterol's spectrum is richer in high-mass fragments due to its long side chain and single –OH. Key peaks (70 eV EI) include: m/z 386 – M⁺·, about 40–50% intensity researchgate.net (unusually, cholesterol's molecular ion is relatively abundant, indicating some stability as a radical cation). At lower ionization energy (16 eV), M⁺· can even be the base\",\n",
       " 'onization energy (16 eV), M⁺· can even be the base peak researchgate.net . This strong M⁺· is useful for molecular weight identification. m/z 368 – [M–18]^+, base peak at 70 eV massbank.eu massbank.eu . This confirms a facile dehydration, consistent with a tertiary alcohol at C3 (3β-OH). The prominence of the water-loss ion is typical for sterols researchgate.net . Even in mixtures, m/z 368 is used as a marker for cholesterol webbook.nist.gov . m/z 353 – [M–33]^+. Likely a sequential loss (H₂O +',\n",
       " '/z 353 – [M–33]^+. Likely a sequential loss (H₂O + CH₃). Cholesterol can lose H₂O to 368, then a methyl (perhaps from C10 or side chain) to 353 link.springer.com . The presence of this peak (≈21% relative) indicates the molecule has a methyl substituent that departs after dehydration link.springer.com . m/z 301/300 – These correspond to losing the entire side chain (approx 85 Da) after some rearrangement. Specifically, loss of C_8H{16} (112 Da) from M would give 274; cholesterol instead shows 27',\n",
       " 'rom M would give 274; cholesterol instead shows 275 (maybe C_8H_{17} loss of 111 Da) and also 301 (loss of 85). 85 Da could be C_6H_{13}, meaning part of the side chain remains attached. Likely, cholesterol fragments at different points along its side chain, giving a distribution of ions. Notably, literature on cholesterol fragmentation reports ions at m/z 275, 276 (cholestene cations) science.org and m/z 301 (indicating loss of C_5H_{11}) science.org . The second most intense cholesterol ion in',\n",
       " 'e.org . The second most intense cholesterol ion in some spectra is m/z 369 (M–17, perhaps loss of an OH radical) link.springer.com link.springer.com , but under 70 eV, 368 dominates. m/z 255 and 213 – These are significant lower fragments. m/z 255 could correspond to a cleaved D-ring plus part of side chain. m/z 213 is observed in cholesterol and not in, say, vitamin D (which lacks ring B), so 213 likely contains rings A+B (plus some of ring C). Indeed, advanced MS studies identified m/z 213 as ',\n",
       " 'Indeed, advanced MS studies identified m/z 213 as a key fragment for cholesterol (often appearing via a two-step pathway) researchgate.net . For a first-pass interpretation, recognizing that multiple fragments in the 200–300 range occur due to the cholesterol side chain is sufficient – it says \"there is a large alkyl portion that the molecule can lose in chunks\". m/z 147, 133, 121 – These lower fragments correspond to various rearranged hydrocarbon cations from the polycyclic framework. For inst',\n",
       " 'on cations from the polycyclic framework. For instance, m/z 147 might come from ring A/B after side chain loss and further fragmentation. While important for library matching, they are harder to assign unambiguously without detailed mechanism study. However, m/z 147 is notably also the base peak of cholesterol\\'s perhydro analog (cholestane), indicating a common saturated-ring fragment. By putting this together, one sees that cholesterol\\'s spectrum strongly signals \"a high-MW alcohol with a sizab',\n",
       " 'm strongly signals \"a high-MW alcohol with a sizable aliphatic portion\": strong M and [M–H₂O] peaks researchgate.net , cluster of ions separated by 14 (side chain cleavage) fda.gov , and a lack of any 124 peak (cholesterol\\'s A-ring is not 3-keto, so no m/z 124; its largest ring fragment is different). This contrasts with steroid ketones like progesterone which show 124 base peaks. Thus, even without knowing it\\'s cholesterol, the spectrum suggests \"sterol\" (which an experienced interpreter or lib',\n",
       " ' \"sterol\" (which an experienced interpreter or library search would rapidly confirm). Distinguishing Similar Steroid Structures by Mass Spectra Distinguishing isomeric steroids (same formula) via EI spectra can be challenging, as their fragment ions are often identical in mass – only intensities may differ. Stereochemical isomers (epimers) especially yield very similar fragmentation patterns, because EI largely probes the connectivity and conjugation, not the 3D orientation. However, there are s',\n",
       " 'tion, not the 3D orientation. However, there are subtle, reproducible differences in relative intensities that can provide clues: Hydroxyl Orientation (α vs β): As mentioned, an axial vs equatorial –OH shows different propensity for water loss. For 17-hydroxy steroids, the 17α-OH epimer tends to eliminate H₂O more readily, giving a relatively higher [M–18]^+ peak than the 17β-OH epimer russchemrev.org . For example, testosterone (17β-OH) vs epitestosterone (17α-OH) can be told apart by the inten',\n",
       " \"stosterone (17α-OH) can be told apart by the intensity of their m/z 270 peaks (water loss) russchemrev.org . Epitestosterone's spectrum shows a larger M–18 peak and slightly lower M⁺· peak relative to testosterone russchemrev.org . In one study, the ratio of [M–H₂O]/M for 17α-OH vs 17β-OH steroids was significantly higher, consistent with axial OH promoting fragmentation russchemrev.org . Thus, by comparing the 270:288 peak ratio, one can distinguish these epimers (although retention time and ot\",\n",
       " \"uish these epimers (although retention time and other techniques are also used in practice). Double-Bond Position: Isomers differing by placement of a double bond (e.g., Δ^4 vs Δ^5 in the A-ring) will alter the prominent fragment. Δ^5-3-ols (like cholest-5-en-3-ol, cholesterol) do not have the 3-keto-Δ^4 structure, so they won't have m/z 124. Instead, their base peak might be [M–H₂O]^+ or another ion. Meanwhile, a Δ^4-3-one steroid (like cholest-4-en-3-one) would produce m/z 124. So the presence\",\n",
       " '4-en-3-one) would produce m/z 124. So the presence or absence of that peak tells apart a 3-ol vs 3-one. Even within conjugated ketones: a steroid with a 4-ene-3-one vs a 1,4-diene-3-one shows 124 vs 122 base peak as noted fda.gov . So, examining if your base peak is at 122 or 124 can reveal a subtle structural difference (double bond at C1 or not). Ring Junction Stereochemistry: Steroids with trans vs cis ring junctions (e.g., 5α-H vs 5β-H in A/B rings) can show differences in fragmentation. A f',\n",
       " ' rings) can show differences in fragmentation. A famous example is 5α-androstan-3-one vs 5β-androstan-3-one; the cis (5β) junction steroid tends to have slightly different [M–CH_3] to [M–H₂O] ratios than the trans (5α) isomer russchemrev.org russchemrev.org . Stereochemical effects in fragmentation are subtle, but certain cleavage may be sterically favored in one isomer. In the literature, differences in the intensity of peaks due to ions formed by ejection of a methyl group were noted between a',\n",
       " \"by ejection of a methyl group were noted between axial vs equatorial 17-acetoxy steroids russchemrev.org , and similarly for other epimeric tertiary alcohols. In general: axial substituents that can leave (as neutral or transferred) often do so more readily than equatorial, influencing the corresponding fragment's intensity russchemrev.org russchemrev.org . Functional Group Differences: Some steroids differ only by a functional group (e.g., 17-oxo vs 17β-OH as in androstenedione vs testosterone)\",\n",
       " \"o vs 17β-OH as in androstenedione vs testosterone). Here, certain peaks are completely diagnostic: androstenedione (17-oxo) shows no M–18 (no OH to lose) but might show a strong M–44 (17-ketone elimination) fda.gov ; testosterone shows M–18 but not M–44. Also, androstenedione lacks a side-chain, so any significant fragment that would come from a side-chain (like cholesterol's 368 or 353) won't appear. Thus, by looking for presence/absence of specific fragment peaks (rather than just their size),\",\n",
       " \"ific fragment peaks (rather than just their size), one can tell different classes apart. Another example: estrogens vs androgens – Estradiol (aromatic A-ring, C18) vs testosterone (aliphatic A-ring, C19) both have MW ~ 272–288 range. Estradiol's aromatic ring will not produce m/z 124 (since it has a 3-phenolic structure, not a Δ^4-3-one). Instead, derivatized estrogens often show a base peak around m/z 219 or other unique fragments sciencedirect.com . Even underivatized estradiol has a distinct \",\n",
       " \"com . Even underivatized estradiol has a distinct pattern (for instance, estrone's base peak as a TMS derivative is m/z 342, whereas underivatized it's different). If two steroids have the same formula (isomers), one might examine minor peaks: e.g., one isomer might have a unique fragment from a specific rearrangement that the other cannot do. This is advanced and usually requires prior knowledge or MS/MS to tease out, but it's worth noting. Comparison to Reference Spectra: In practice, after no\",\n",
       " \"arison to Reference Spectra: In practice, after noting these differences, an analyst would confirm by overlaying or comparing the unknown's spectrum to known spectra of candidate isomers. A lower library match quality might clue you in that the unknown isn't exactly the library entry but maybe a stereoisomer – then you scrutinize the specific peak differences. For example, testosterone and epitestosterone in an EI library will have very high spectral similarity, but not 100% identical – the epit\",\n",
       " 'tral similarity, but not 100% identical – the epitestosterone spectrum shows that higher [M–18] and slightly different [M–CH3] intensity russchemrev.org . Recognizing such patterns comes with experience and referencing tables from literature that document fragmentation differences among stereoisomers russchemrev.org . Important: Distinguishing stereoisomers by EI alone can be unreliable if differences are very small. Often analysts derivatize steroids to alter fragmentation, or use alternative t',\n",
       " 'roids to alter fragmentation, or use alternative techniques (MS/MS, chromatography, ion mobility) to separate isomers sciencedirect.com repository.fit.edu . However, for a deep understanding, one should know qualitatively how an epimer or isomer might influence the EI fragmentation pathway as described above. Conclusion Interpreting EI mass spectra, especially for complex polycyclic molecules like steroids, is akin to solving a puzzle – each fragment ion is a clue to a piece of the structure. By',\n",
       " \"ment ion is a clue to a piece of the structure. By systematically analyzing m/z values, neutral losses, and fragmentation patterns (with an eye on known pathways like α-cleavage and McLafferty rearrangements), one can deduce a surprising amount about an unknown compound's functional groups and skeleton. Steroids provide an excellent example: their spectra exhibit reproducible hallmark ions (e.g. m/z 124 for Δ^4-3-ones fda.gov , m/z 368 for cholesterol's dehydration researchgate.net ) and illustr\",\n",
       " \"terol's dehydration researchgate.net ) and illustrate how subtle structural tweaks (double bonds, orientation of OH) manifest in the mass spectra. A structured approach – find M⁺·, check isotopes, identify base peak, assign fragment origins, and compare to reference data – allows even advanced spectra to be unraveled. In summary, the key takeaways for steroid EI spectra are: Molecular ions may be present (especially in sterols) or very weak (in easily fragmented steroids like corticosteroids); a\",\n",
       " 'asily fragmented steroids like corticosteroids); always confirm molecular weight via M and isotopes researchgate.net . Base peaks often correspond to highly stabilized cations: for Δ^4-3-one steroids a conjugated A-ring cation (m/z 124) fda.gov , for sterols a dehydration cation (m/z 368 for cholesterol) researchgate.net , etc. Recognizing these goes a long way in identification. Common fragments reflect common substructures: M–18 for –OH, M–42 for 3-keto, M–15 for methyl, etc., as summarized in',\n",
       " 'or 3-keto, M–15 for methyl, etc., as summarized in the table above. Fragmentation mechanisms (α-cleavage, McLafferty, etc.) provide a logical basis for why those ions appear – use them to rationalize each peak and ensure consistency with a single structure gajrc.com gajrc.com . Comparison of similar spectra reveals subtle intensity shifts that correlate with structural differences (axial vs equatorial OH, extra double bonds, etc.) russchemrev.org . While EI alone may not definitively identify st',\n",
       " ' . While EI alone may not definitively identify stereochemistry, it gives hints that can be confirmed with other methods. By mastering these principles and patterns, one develops an intuition for mass spectral interpretation that is crucial for advanced organic analysis, whether it\\'s identifying an unknown metabolite or confirming the structure of a synthetic steroid. With practice, the \"language\" of fragment ions becomes an indispensable tool for the organic chemist or mass spectrometrist. Refe',\n",
       " \"r the organic chemist or mass spectrometrist. References: The information and spectral data discussed are supported by reputable sources, including NIST mass spectral library data for steroids (e.g. NIST WebBook entries for testosterone gajrc.com , cholesterol researchgate.net , progesterone fda.gov ), MassBank records (e.g. cholesterol spectrum massbank.eu massbank.eu ), and key literature on steroid mass spectrometry (Djerassi et al.'s fragmentation studies gajrc.com gajrc.com , as well as reg\",\n",
       " 'ation studies gajrc.com gajrc.com , as well as regulatory and analytical guides fda.gov fda.gov ). These citations provide experimental verification for the fragmentation assignments and interpretations given above.']"
      ]
     },
     "execution_count": 8,
     "metadata": {},
     "output_type": "execute_result"
    }
   ],
   "source": [
    "chunks\n"
   ]
  },
  {
   "cell_type": "code",
   "execution_count": 9,
   "id": "498b73a8",
   "metadata": {},
   "outputs": [
    {
     "data": {
      "text/html": [
       "<div>\n",
       "<style scoped>\n",
       "    .dataframe tbody tr th:only-of-type {\n",
       "        vertical-align: middle;\n",
       "    }\n",
       "\n",
       "    .dataframe tbody tr th {\n",
       "        vertical-align: top;\n",
       "    }\n",
       "\n",
       "    .dataframe thead th {\n",
       "        text-align: right;\n",
       "    }\n",
       "</style>\n",
       "<table border=\"1\" class=\"dataframe\">\n",
       "  <thead>\n",
       "    <tr style=\"text-align: right;\">\n",
       "      <th></th>\n",
       "      <th>id</th>\n",
       "      <th>chunk</th>\n",
       "    </tr>\n",
       "  </thead>\n",
       "  <tbody>\n",
       "    <tr>\n",
       "      <th>0</th>\n",
       "      <td>chunk_0000</td>\n",
       "      <td>Advanced Knowledge Base: Interpreting EI Mass ...</td>\n",
       "    </tr>\n",
       "    <tr>\n",
       "      <th>1</th>\n",
       "      <td>chunk_0001</td>\n",
       "      <td>ies of fragment ions. In this guide, we focus ...</td>\n",
       "    </tr>\n",
       "    <tr>\n",
       "      <th>2</th>\n",
       "      <td>chunk_0002</td>\n",
       "      <td>ts and reasoning. Finally, we offer guidelines...</td>\n",
       "    </tr>\n",
       "    <tr>\n",
       "      <th>3</th>\n",
       "      <td>chunk_0003</td>\n",
       "      <td>s presence and intensity vary: some compounds ...</td>\n",
       "    </tr>\n",
       "    <tr>\n",
       "      <th>4</th>\n",
       "      <td>chunk_0004</td>\n",
       "      <td>oids have no nitrogen, so an even-mass M⁺· is ...</td>\n",
       "    </tr>\n",
       "  </tbody>\n",
       "</table>\n",
       "</div>"
      ],
      "text/plain": [
       "           id                                              chunk\n",
       "0  chunk_0000  Advanced Knowledge Base: Interpreting EI Mass ...\n",
       "1  chunk_0001  ies of fragment ions. In this guide, we focus ...\n",
       "2  chunk_0002  ts and reasoning. Finally, we offer guidelines...\n",
       "3  chunk_0003  s presence and intensity vary: some compounds ...\n",
       "4  chunk_0004  oids have no nitrogen, so an even-mass M⁺· is ..."
      ]
     },
     "execution_count": 9,
     "metadata": {},
     "output_type": "execute_result"
    }
   ],
   "source": [
    "df_chunks = pd.DataFrame({\n",
    "    \"id\": chunk_ids,\n",
    "    \"chunk\": chunks,\n",
    "})\n",
    "df_chunks.head()"
   ]
  },
  {
   "cell_type": "code",
   "execution_count": 10,
   "id": "195158f5",
   "metadata": {},
   "outputs": [],
   "source": [
    "df_chunks.to_csv(\"chunks.csv\", index=False)"
   ]
  },
  {
   "cell_type": "code",
   "execution_count": 11,
   "id": "6d779ccb",
   "metadata": {},
   "outputs": [],
   "source": [
    "import numpy as np\n",
    "from typing import List, Tuple\n",
    "\n",
    "def cosine_similarity_matrix(a: np.ndarray, b: np.ndarray) -> float:\n",
    "    \"\"\"\n",
    "    Calcula similaridade de cosseno entre dois vetores.\n",
    "    \"\"\"\n",
    "    dot = np.dot(a, b)\n",
    "    norm_a = np.linalg.norm(a)\n",
    "    norm_b = np.linalg.norm(b)\n",
    "    return dot / (norm_a * norm_b)\n",
    "\n",
    "\n",
    "def compare_chunk_similarity(\n",
    "    embeddings: np.ndarray,\n",
    "    chunks: List[str],\n",
    "    reference: int | str,\n",
    "    chunk_ids: List[str] | None = None,\n",
    "    top_k: int = 5,\n",
    ") -> List[Tuple[str, float]]:\n",
    "    \"\"\"\n",
    "    Calcula similaridade do cosseno entre um chunk de referência e todos os demais.\n",
    "\n",
    "    Args:\n",
    "        embeddings (np.ndarray): Matriz (N x D) de embeddings.\n",
    "        chunks (List[str]): Lista dos textos originais (chunks).\n",
    "        reference (int | str): Índice ou ID do chunk de referência.\n",
    "        chunk_ids (List[str] | None): IDs dos chunks (se None, usa índices).\n",
    "        top_k (int): Quantos resultados mais semelhantes retornar.\n",
    "\n",
    "    Returns:\n",
    "        List[Tuple[str, float]]: Lista com (id, score) ordenada pela similaridade.\n",
    "    \"\"\"\n",
    "    if chunk_ids is None:\n",
    "        chunk_ids = [f\"chunk_{i}\" for i in range(len(chunks))]\n",
    "\n",
    "    # Descobre índice do chunk de referência\n",
    "    if isinstance(reference, str):\n",
    "        try:\n",
    "            ref_idx = chunk_ids.index(reference)\n",
    "        except ValueError:\n",
    "            raise ValueError(f\"ID '{reference}' não encontrado em chunk_ids\")\n",
    "    else:\n",
    "        ref_idx = reference\n",
    "\n",
    "    ref_vec = embeddings[ref_idx]\n",
    "    results = []\n",
    "\n",
    "    for i, vec in enumerate(embeddings):\n",
    "        if i == ref_idx:\n",
    "            continue\n",
    "        score = cosine_similarity_matrix(ref_vec, vec)\n",
    "        results.append((chunk_ids[i], score))\n",
    "\n",
    "    # Ordena do mais parecido para o menos parecido\n",
    "    results = sorted(results, key=lambda x: x[1], reverse=True)\n",
    "\n",
    "    return results[:top_k]\n"
   ]
  },
  {
   "cell_type": "code",
   "execution_count": 12,
   "id": "d3bbc53d",
   "metadata": {},
   "outputs": [
    {
     "name": "stdout",
     "output_type": "stream",
     "text": [
      "Mais semelhantes ao chunk_0:\n",
      "chunk_0095: 0.9778\n",
      "chunk_0042: 0.9747\n",
      "chunk_0006: 0.9551\n",
      "chunk_0062: 0.9487\n",
      "chunk_0035: 0.9202\n"
     ]
    }
   ],
   "source": [
    "# Exemplo de uso\n",
    "\n",
    "similares = compare_chunk_similarity(\n",
    "    embeddings=embeddings_pca,\n",
    "    chunks=chunks,\n",
    "    reference=0,   # pode ser índice (0) ou ID (\"chunk_0\")\n",
    "    chunk_ids=chunk_ids,\n",
    "    top_k=5\n",
    ")\n",
    "print(\"Mais semelhantes ao chunk_0:\")\n",
    "for cid, score in similares:\n",
    "    print(f\"{cid}: {score:.4f}\")"
   ]
  },
  {
   "cell_type": "code",
   "execution_count": 13,
   "id": "17ad24bb",
   "metadata": {},
   "outputs": [],
   "source": [
    "import pandas as pd\n",
    "from typing import List, Tuple\n",
    "\n",
    "def get_chunks_from_csv(\n",
    "    similar_chunks: List[Tuple[str, float]],\n",
    "    csv_path: str = \"chunks.csv\"\n",
    ") -> List[Tuple[str, str, float]]:\n",
    "    \"\"\"\n",
    "    Lê um CSV (id, chunk) e retorna os textos dos chunks correspondentes aos ids.\n",
    "\n",
    "    Args:\n",
    "        similar_chunks (List[Tuple[str, float]]): Lista (id, score) dos chunks mais similares.\n",
    "        csv_path (str): Caminho do arquivo CSV (com colunas: id, chunk).\n",
    "\n",
    "    Returns:\n",
    "        List[Tuple[str, str, float]]: Lista de tuplas (id, texto, score).\n",
    "    \"\"\"\n",
    "    df = pd.read_csv(csv_path)\n",
    "\n",
    "    # Cria um dicionário para acesso rápido id -> texto\n",
    "    chunk_dict = dict(zip(df[\"id\"], df[\"chunk\"]))\n",
    "\n",
    "    resultados = []\n",
    "    for cid, score in similar_chunks:\n",
    "        texto = chunk_dict.get(cid, \"[ID não encontrado]\")\n",
    "        resultados.append((cid, texto, score))\n",
    "\n",
    "    return resultados"
   ]
  },
  {
   "cell_type": "code",
   "execution_count": 14,
   "id": "791e1db2",
   "metadata": {},
   "outputs": [
    {
     "name": "stdout",
     "output_type": "stream",
     "text": [
      "\n",
      "=== chunk_0095 (score=0.9778) ===\n",
      " . While EI alone may not definitively identify stereochemistry, it gives hints that can be confirmed with other methods. By mastering these principles and patterns, one develops an intuition for mass spectral interpretation that is crucial for advanced organic analysis, whether it's identifying an unknown metabolite or confirming the structure of a synthetic steroid. With practice, the \"language\" of fragment ions becomes an indispensable tool for the organic chemist or mass spectrometrist. Refe\n",
      "\n",
      "\n",
      "=== chunk_0042 (score=0.9747) ===\n",
      ", but these represent the most diagnostically useful ions.) Step-by-Step Strategy for EI Spectrum Elucidation Interpreting a complex EI spectrum can be approached systematically. Below is a step-by-step strategy, applied especially to steroid spectra: Step 1: Identify the Molecular Ion (M⁺·) – Look at the highest m/z values in the spectrum. If a peak stands out near the expected molecular weight (based on formula or known MW), that is likely M⁺·. Confirm by isotopic pattern: e.g. a C_19H_28O_2 s\n",
      "\n",
      "\n",
      "=== chunk_0006 (score=0.9551) ===\n",
      ".1% per C) researchgate.net . Presence of Cl or Br would give distinct M and M+2 patterns (not typical in natural steroids, but important generally). In EI, only cations are detected, so all significant peaks represent positively charged fragments (radical cations or protonated neutrals in some cases). Relative Intensities and Stability: The pattern of fragment intensities reflects each ion's stability and the probability of its formation. Stable carbocation fragments (allylic, benzylic, tertiar\n",
      "\n",
      "\n",
      "=== chunk_0062 (score=0.9487) ===\n",
      "der those subtle differences or use additional data to distinguish them. Step 6: Leverage Spectral Libraries or Literature – In practice, one often compares the unknown's spectrum to reference spectra (NIST library, etc.) for identification. For deep understanding, however, interpreting the fragmentation as above is invaluable. Cross-check your assignments with known spectra from reliable sources: e.g., NIST WebBook entries researchgate.net , MassBank records massbank.eu massbank.eu , or literat\n",
      "\n",
      "\n",
      "=== chunk_0035 (score=0.9202) ===\n",
      "e side chain and rings massbank.eu massbank.eu . These ions are not unique to steroids but indicate branched alkyl fragments and can support identification of certain substructures (e.g. m/z 91 indicates an aromatic benzyl fragment, rarely relevant in natural steroids except in aromatic ring A of estrogens). High-Mass Oxidized Fragments: In specialized cases (e.g. under lower EI energy or with chemical ionization), molecular adducts or oxidized ions can appear (like cholesterol M–H with a hydrog\n",
      "\n"
     ]
    }
   ],
   "source": [
    "resultados = get_chunks_from_csv(similares, csv_path=\"chunks.csv\")\n",
    "\n",
    "for cid, texto, score in resultados:\n",
    "    print(f\"\\n=== {cid} (score={score:.4f}) ===\\n{texto}\\n\")"
   ]
  },
  {
   "cell_type": "code",
   "execution_count": null,
   "id": "a0c2e486",
   "metadata": {},
   "outputs": [],
   "source": []
  },
  {
   "cell_type": "code",
   "execution_count": null,
   "id": "bf3430e4",
   "metadata": {},
   "outputs": [],
   "source": []
  },
  {
   "cell_type": "markdown",
   "id": "bea8ef16",
   "metadata": {},
   "source": [
    "### Similaridade de cosseno entre vetores com base na query"
   ]
  },
  {
   "cell_type": "code",
   "execution_count": 42,
   "id": "7c204b7f",
   "metadata": {},
   "outputs": [],
   "source": [
    "import numpy as np\n",
    "from typing import List, Tuple, Optional\n",
    "from sentence_transformers import SentenceTransformer\n",
    "from sklearn.decomposition import PCA\n",
    "\n",
    "def search_similar_chunks_pca(\n",
    "    query: str,\n",
    "    embeddings: np.ndarray,          # pode ser (N, D) original ou já reduzido\n",
    "    chunks: List[str],\n",
    "    model: SentenceTransformer,\n",
    "    chunk_ids: Optional[List[str]] = None,\n",
    "    top_k: int = 5,\n",
    "    pca_model: Optional[PCA] = None, # passe o MESMO PCA usado para reduzir embeddings\n",
    "    embeddings_already_reduced: bool = True\n",
    ") -> List[Tuple[str, str, float]]:\n",
    "    \"\"\"\n",
    "    Compara uma query com embeddings (possivelmente reduzidos por PCA) e retorna os mais similares.\n",
    "\n",
    "    Caso seus embeddings estejam em 3D (após PCA), passe o mesmo pca_model para projetar a query.\n",
    "\n",
    "    Args:\n",
    "        query: texto da consulta\n",
    "        embeddings: matriz (N x D) – D pode ser original ou reduzido\n",
    "        chunks: textos dos chunks\n",
    "        model: SentenceTransformer usado para embutir a query\n",
    "        chunk_ids: ids opcionais dos chunks\n",
    "        top_k: quantos resultados retornar\n",
    "        pca_model: o MESMO PCA que transformou 'embeddings' (se embeddings estiverem reduzidos)\n",
    "        embeddings_already_reduced: True se 'embeddings' já estão em espaço PCA\n",
    "\n",
    "    Returns:\n",
    "        Lista (id, chunk, score) ordenada por similaridade (cosseno)\n",
    "    \"\"\"\n",
    "    if chunk_ids is None:\n",
    "        chunk_ids = [f\"chunk_{i:04d}\" for i in range(len(chunks))]\n",
    "\n",
    "    # 1) Embedding da query no espaço original do modelo\n",
    "    q = model.encode([query], convert_to_numpy=True, normalize_embeddings=False)[0]  # sem normalizar ainda\n",
    "\n",
    "    # 2) Se os embeddings foram reduzidos por PCA, projetar a query com o MESMO PCA\n",
    "    if embeddings_already_reduced:\n",
    "        if pca_model is None:\n",
    "            raise ValueError(\"Você marcou embeddings_already_reduced=True, mas não passou pca_model.\")\n",
    "        q = pca_model.transform(q.reshape(1, -1))[0]  # transforma com o MESMO PCA (não usar fit_transform)\n",
    "\n",
    "    # 3) Normalizar (para usar cosseno)\n",
    "    def l2norm(X):\n",
    "        n = np.linalg.norm(X, axis=1, keepdims=True) if X.ndim == 2 else np.linalg.norm(X)\n",
    "        return X / (n + 1e-12)\n",
    "\n",
    "    E = l2norm(embeddings)     # (N, D)\n",
    "    q = l2norm(q)              # (D,)\n",
    "\n",
    "    # 4) Similaridade do cosseno vetorizada\n",
    "    scores = E @ q             # (N,)\n",
    "\n",
    "    # 5) Ordenar e devolver\n",
    "    order = np.argsort(-scores)[:top_k]\n",
    "    return [(chunk_ids[i], chunks[i], float(scores[i])) for i in order]"
   ]
  },
  {
   "cell_type": "code",
   "execution_count": 50,
   "id": "a1a99632",
   "metadata": {},
   "outputs": [
    {
     "name": "stdout",
     "output_type": "stream",
     "text": [
      "\n",
      "ID: chunk_0083 | score=0.9434\n",
      " rings) can show differences in fragmentation. A famous example is 5α-androstan-3-one vs 5β-androstan-3-one; the cis (5β) junction steroid tends to have slightly different [M–CH_3] to [M–H₂O] ratios than the trans (5α) isomer russchemrev.org russchemrev.org . Stereochemical effects in fragmentation are subtle, but certain cleavage may be sterically favored in one isomer. In the literature, differences in the intensity of peaks due to ions formed by ejection of a methyl group were noted between a\n",
      "\n",
      "ID: chunk_0023 | score=0.8434\n",
      "tc. High-resolution or MS/MS experiments (beyond scope here) can connect which fragments derive from which precursors link.springer.com , but even in a basic EI spectrum, seeing logical combinations of losses (e.g. M–15, M–18, M–33 (15+18), M–42, M–60 (42+18), etc.) helps confirm which functional groups are present and fragmenting. Characteristic Fragment Ions in Steroids Steroid molecules share a tetracyclic carbon skeleton, and their EI spectra show some common fragment ions corresponding to s\n",
      "\n",
      "ID: chunk_0089 | score=0.7804\n",
      "tral similarity, but not 100% identical – the epitestosterone spectrum shows that higher [M–18] and slightly different [M–CH3] intensity russchemrev.org . Recognizing such patterns comes with experience and referencing tables from literature that document fragmentation differences among stereoisomers russchemrev.org . Important: Distinguishing stereoisomers by EI alone can be unreliable if differences are very small. Often analysts derivatize steroids to alter fragmentation, or use alternative t\n"
     ]
    }
   ],
   "source": [
    "from sentence_transformers import SentenceTransformer\n",
    "from sklearn.decomposition import PCA\n",
    "\n",
    "# 1) Embeddings originais dos chunks (ex.: 384 dims)\n",
    "model = SentenceTransformer(\"sentence-transformers/all-MiniLM-L6-v2\")\n",
    "embeddings_full = model.encode(chunks, convert_to_numpy=True, normalize_embeddings=False)\n",
    "\n",
    "# 2) Ajuste PCA nos embeddings (ex.: 3D para visualização)\n",
    "pca = PCA(n_components=3, random_state=42).fit(embeddings_full)\n",
    "embeddings_pca = pca.transform(embeddings_full)\n",
    "\n",
    "# 3) Buscar\n",
    "query = input(\"Digite sua pergunta: \")\n",
    "resultados = search_similar_chunks_pca(\n",
    "    query=query,\n",
    "    embeddings=embeddings_pca,          # já reduzidos\n",
    "    chunks=chunks,\n",
    "    model=model,\n",
    "    chunk_ids=chunk_ids,                 # opcional\n",
    "    top_k=3,\n",
    "    pca_model=pca,                       # MESMO PCA!\n",
    "    embeddings_already_reduced=True\n",
    ")\n",
    "\n",
    "for cid, texto, score in resultados:\n",
    "    print(f\"\\nID: {cid} | score={score:.4f}\\n{texto}\")\n"
   ]
  },
  {
   "cell_type": "code",
   "execution_count": null,
   "id": "ae299b92",
   "metadata": {},
   "outputs": [],
   "source": []
  },
  {
   "cell_type": "code",
   "execution_count": null,
   "id": "823ba4bf",
   "metadata": {},
   "outputs": [],
   "source": []
  },
  {
   "cell_type": "code",
   "execution_count": null,
   "id": "879cfd34",
   "metadata": {},
   "outputs": [],
   "source": []
  },
  {
   "cell_type": "code",
   "execution_count": null,
   "id": "36ac1bd7",
   "metadata": {},
   "outputs": [],
   "source": []
  },
  {
   "cell_type": "code",
   "execution_count": null,
   "id": "57695253",
   "metadata": {},
   "outputs": [],
   "source": []
  }
 ],
 "metadata": {
  "kernelspec": {
   "display_name": "doutorado",
   "language": "python",
   "name": "python3"
  },
  "language_info": {
   "codemirror_mode": {
    "name": "ipython",
    "version": 3
   },
   "file_extension": ".py",
   "mimetype": "text/x-python",
   "name": "python",
   "nbconvert_exporter": "python",
   "pygments_lexer": "ipython3",
   "version": "3.12.5"
  }
 },
 "nbformat": 4,
 "nbformat_minor": 5
}
